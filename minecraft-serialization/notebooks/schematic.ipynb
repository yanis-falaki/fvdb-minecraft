{
 "cells": [
  {
   "cell_type": "code",
   "execution_count": 1,
   "metadata": {},
   "outputs": [],
   "source": [
    "import numpy as np\n",
    "import pyvista as pv\n",
    "from tqdm import tqdm\n",
    "import torch\n",
    "from multiprocessing import Pool\n",
    "import os"
   ]
  },
  {
   "cell_type": "code",
   "execution_count": 13,
   "metadata": {},
   "outputs": [],
   "source": [
    "def process_level(path: str):\n",
    "    level = amulet.load_level(path)\n",
    "    chunks = list(level.all_chunk_coords(\"minecraft:overworld\"))\n",
    "\n",
    "    blocks_list = []\n",
    "\n",
    "    # Adding a progress bar to the chunks iteration\n",
    "    for chunk_coords in tqdm(chunks, desc=\"Processing Chunks\", unit=\"chunk\"):\n",
    "        chunk = level.get_chunk(chunk_coords[0], chunk_coords[1], \"minecraft:overworld\")\n",
    "        \n",
    "        # Adding a progress bar to the section iteration\n",
    "        for section in chunk.blocks.sections:\n",
    "            section_data = torch.from_numpy(chunk.blocks.get_section(section))\n",
    "            non_zero_indices = torch.argwhere(section_data != 0)\n",
    "            \n",
    "            world_x = chunk_coords[0] * 16 + non_zero_indices[:, 0]\n",
    "            world_y = section * 16 + non_zero_indices[:, 1]\n",
    "            world_z = chunk_coords[1] * 16 + non_zero_indices[:, 2]\n",
    "            \n",
    "            block_coords = torch.column_stack((world_x, world_z, world_y))\n",
    "            blocks_list.append(block_coords)\n",
    "\n",
    "    # Convert the list of arrays into a single NumPy array\n",
    "    blocks = torch.concatenate(blocks_list, axis=0) if blocks_list else torch.empty((0, 3), dtype=int)\n",
    "\n",
    "    level.close()\n",
    "    del level\n",
    "    del chunks\n",
    "\n",
    "    return blocks"
   ]
  },
  {
   "cell_type": "code",
   "execution_count": null,
   "metadata": {},
   "outputs": [],
   "source": [
    "blocks = process_level('./custom_saves/train/1')\n",
    "print(blocks.shape)"
   ]
  },
  {
   "cell_type": "code",
   "execution_count": 9,
   "metadata": {},
   "outputs": [
    {
     "ename": "KeyboardInterrupt",
     "evalue": "",
     "output_type": "error",
     "traceback": [
      "\u001b[0;31m---------------------------------------------------------------------------\u001b[0m",
      "\u001b[0;31mKeyboardInterrupt\u001b[0m                         Traceback (most recent call last)",
      "Cell \u001b[0;32mIn[9], line 8\u001b[0m\n\u001b[1;32m      6\u001b[0m \u001b[38;5;28;01mfor\u001b[39;00m point \u001b[38;5;129;01min\u001b[39;00m blocks:\n\u001b[1;32m      7\u001b[0m     cube \u001b[38;5;241m=\u001b[39m pv\u001b[38;5;241m.\u001b[39mCube(center\u001b[38;5;241m=\u001b[39mpoint, x_length\u001b[38;5;241m=\u001b[39msize, y_length\u001b[38;5;241m=\u001b[39msize, z_length\u001b[38;5;241m=\u001b[39msize)\n\u001b[0;32m----> 8\u001b[0m     voxels \u001b[38;5;241m+\u001b[39m\u001b[38;5;241m=\u001b[39m cube\n\u001b[1;32m     10\u001b[0m \u001b[38;5;66;03m# Create static plotter\u001b[39;00m\n\u001b[1;32m     11\u001b[0m plotter \u001b[38;5;241m=\u001b[39m pv\u001b[38;5;241m.\u001b[39mPlotter(notebook\u001b[38;5;241m=\u001b[39m\u001b[38;5;28;01mTrue\u001b[39;00m, off_screen\u001b[38;5;241m=\u001b[39m\u001b[38;5;28;01mTrue\u001b[39;00m)\n",
      "File \u001b[0;32m~/miniforge3/envs/fvdb/lib/python3.10/site-packages/pyvista/core/filters/poly_data.py:347\u001b[0m, in \u001b[0;36mPolyDataFilters.__iadd__\u001b[0;34m(self, dataset)\u001b[0m\n\u001b[1;32m    339\u001b[0m \u001b[38;5;28;01mdef\u001b[39;00m \u001b[38;5;21m__iadd__\u001b[39m(\u001b[38;5;28mself\u001b[39m, dataset):\n\u001b[1;32m    340\u001b[0m \u001b[38;5;250m    \u001b[39m\u001b[38;5;124;03m\"\"\"Merge another mesh into this one if possible.\u001b[39;00m\n\u001b[1;32m    341\u001b[0m \n\u001b[1;32m    342\u001b[0m \u001b[38;5;124;03m    \"If possible\" means that ``dataset`` is also a :class:`PolyData`.\u001b[39;00m\n\u001b[0;32m   (...)\u001b[0m\n\u001b[1;32m    345\u001b[0m \n\u001b[1;32m    346\u001b[0m \u001b[38;5;124;03m    \"\"\"\u001b[39;00m\n\u001b[0;32m--> 347\u001b[0m     \u001b[38;5;28;01mreturn\u001b[39;00m \u001b[38;5;28;43mself\u001b[39;49m\u001b[38;5;241;43m.\u001b[39;49m\u001b[43mmerge\u001b[49m\u001b[43m(\u001b[49m\u001b[43mdataset\u001b[49m\u001b[43m,\u001b[49m\u001b[43m \u001b[49m\u001b[43minplace\u001b[49m\u001b[38;5;241;43m=\u001b[39;49m\u001b[38;5;28;43;01mTrue\u001b[39;49;00m\u001b[43m)\u001b[49m\n",
      "File \u001b[0;32m~/miniforge3/envs/fvdb/lib/python3.10/site-packages/pyvista/core/filters/poly_data.py:509\u001b[0m, in \u001b[0;36mPolyDataFilters.merge\u001b[0;34m(self, dataset, merge_points, tolerance, inplace, main_has_priority, progress_bar)\u001b[0m\n\u001b[1;32m    506\u001b[0m \u001b[38;5;28;01mif\u001b[39;00m inplace \u001b[38;5;129;01mand\u001b[39;00m \u001b[38;5;129;01mnot\u001b[39;00m is_polydata:\n\u001b[1;32m    507\u001b[0m     \u001b[38;5;28;01mraise\u001b[39;00m \u001b[38;5;167;01mTypeError\u001b[39;00m(\u001b[38;5;124m\"\u001b[39m\u001b[38;5;124mIn-place merge requires both input datasets to be PolyData.\u001b[39m\u001b[38;5;124m\"\u001b[39m)\n\u001b[0;32m--> 509\u001b[0m merged \u001b[38;5;241m=\u001b[39m \u001b[43mDataSetFilters\u001b[49m\u001b[38;5;241;43m.\u001b[39;49m\u001b[43mmerge\u001b[49m\u001b[43m(\u001b[49m\n\u001b[1;32m    510\u001b[0m \u001b[43m    \u001b[49m\u001b[38;5;28;43mself\u001b[39;49m\u001b[43m,\u001b[49m\n\u001b[1;32m    511\u001b[0m \u001b[43m    \u001b[49m\u001b[43mdataset\u001b[49m\u001b[43m,\u001b[49m\n\u001b[1;32m    512\u001b[0m \u001b[43m    \u001b[49m\u001b[43mmerge_points\u001b[49m\u001b[38;5;241;43m=\u001b[39;49m\u001b[43mmerge_points\u001b[49m\u001b[43m,\u001b[49m\n\u001b[1;32m    513\u001b[0m \u001b[43m    \u001b[49m\u001b[43mtolerance\u001b[49m\u001b[38;5;241;43m=\u001b[39;49m\u001b[43mtolerance\u001b[49m\u001b[43m,\u001b[49m\n\u001b[1;32m    514\u001b[0m \u001b[43m    \u001b[49m\u001b[43mmain_has_priority\u001b[49m\u001b[38;5;241;43m=\u001b[39;49m\u001b[43mmain_has_priority\u001b[49m\u001b[43m,\u001b[49m\n\u001b[1;32m    515\u001b[0m \u001b[43m    \u001b[49m\u001b[43minplace\u001b[49m\u001b[38;5;241;43m=\u001b[39;49m\u001b[38;5;28;43;01mFalse\u001b[39;49;00m\u001b[43m,\u001b[49m\n\u001b[1;32m    516\u001b[0m \u001b[43m    \u001b[49m\u001b[43mprogress_bar\u001b[49m\u001b[38;5;241;43m=\u001b[39;49m\u001b[43mprogress_bar\u001b[49m\u001b[43m,\u001b[49m\n\u001b[1;32m    517\u001b[0m \u001b[43m\u001b[49m\u001b[43m)\u001b[49m\n\u001b[1;32m    519\u001b[0m \u001b[38;5;66;03m# convert back to a polydata if both inputs were polydata\u001b[39;00m\n\u001b[1;32m    520\u001b[0m \u001b[38;5;28;01mif\u001b[39;00m is_polydata:\n\u001b[1;32m    521\u001b[0m     \u001b[38;5;66;03m# if either of the input datasets contained lines or strips, we\u001b[39;00m\n\u001b[1;32m    522\u001b[0m     \u001b[38;5;66;03m# must use extract_geometry to ensure they get converted back\u001b[39;00m\n\u001b[1;32m    523\u001b[0m     \u001b[38;5;66;03m# correctly. This incurrs a performance penalty, but is needed to\u001b[39;00m\n\u001b[1;32m    524\u001b[0m     \u001b[38;5;66;03m# maintain data consistency.\u001b[39;00m\n",
      "File \u001b[0;32m~/miniforge3/envs/fvdb/lib/python3.10/site-packages/pyvista/core/filters/data_set.py:6118\u001b[0m, in \u001b[0;36mDataSetFilters.merge\u001b[0;34m(self, grid, merge_points, tolerance, inplace, main_has_priority, progress_bar)\u001b[0m\n\u001b[1;32m   6115\u001b[0m \u001b[38;5;28;01mif\u001b[39;00m main_has_priority:\n\u001b[1;32m   6116\u001b[0m     append_filter\u001b[38;5;241m.\u001b[39mAddInputData(\u001b[38;5;28mself\u001b[39m)\n\u001b[0;32m-> 6118\u001b[0m \u001b[43m_update_alg\u001b[49m\u001b[43m(\u001b[49m\u001b[43mappend_filter\u001b[49m\u001b[43m,\u001b[49m\u001b[43m \u001b[49m\u001b[43mprogress_bar\u001b[49m\u001b[43m,\u001b[49m\u001b[43m \u001b[49m\u001b[38;5;124;43m'\u001b[39;49m\u001b[38;5;124;43mMerging\u001b[39;49m\u001b[38;5;124;43m'\u001b[39;49m\u001b[43m)\u001b[49m\n\u001b[1;32m   6119\u001b[0m merged \u001b[38;5;241m=\u001b[39m _get_output(append_filter)\n\u001b[1;32m   6120\u001b[0m \u001b[38;5;28;01mif\u001b[39;00m inplace:\n",
      "File \u001b[0;32m~/miniforge3/envs/fvdb/lib/python3.10/site-packages/pyvista/core/filters/__init__.py:40\u001b[0m, in \u001b[0;36m_update_alg\u001b[0;34m(alg, progress_bar, message)\u001b[0m\n\u001b[1;32m     38\u001b[0m         alg\u001b[38;5;241m.\u001b[39mUpdate()\n\u001b[1;32m     39\u001b[0m \u001b[38;5;28;01melse\u001b[39;00m:\n\u001b[0;32m---> 40\u001b[0m     \u001b[43malg\u001b[49m\u001b[38;5;241;43m.\u001b[39;49m\u001b[43mUpdate\u001b[49m\u001b[43m(\u001b[49m\u001b[43m)\u001b[49m\n",
      "\u001b[0;31mKeyboardInterrupt\u001b[0m: "
     ]
    }
   ],
   "source": [
    "# Create base mesh\n",
    "voxels = pv.PolyData()\n",
    "size = 1.0\n",
    "\n",
    "# Add cubes to mesh\n",
    "for point in blocks:\n",
    "    cube = pv.Cube(center=point, x_length=size, y_length=size, z_length=size)\n",
    "    voxels += cube\n",
    "\n",
    "# Create static plotter\n",
    "plotter = pv.Plotter(notebook=True, off_screen=True)\n",
    "plotter.add_mesh(voxels, color='#808080', opacity=1)\n",
    "\n",
    "# Show static image\n",
    "plotter.show(jupyter_backend='static')"
   ]
  },
  {
   "cell_type": "code",
   "execution_count": null,
   "metadata": {},
   "outputs": [],
   "source": []
  }
 ],
 "metadata": {
  "kernelspec": {
   "display_name": "fvdb",
   "language": "python",
   "name": "python3"
  },
  "language_info": {
   "codemirror_mode": {
    "name": "ipython",
    "version": 3
   },
   "file_extension": ".py",
   "mimetype": "text/x-python",
   "name": "python",
   "nbconvert_exporter": "python",
   "pygments_lexer": "ipython3",
   "version": "3.10.16"
  }
 },
 "nbformat": 4,
 "nbformat_minor": 2
}
