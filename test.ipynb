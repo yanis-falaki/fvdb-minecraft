{
 "cells": [
  {
   "cell_type": "code",
   "execution_count": 1,
   "metadata": {},
   "outputs": [],
   "source": [
    "import torch\n",
    "import fvdb"
   ]
  },
  {
   "cell_type": "code",
   "execution_count": 18,
   "metadata": {},
   "outputs": [
    {
     "name": "stdout",
     "output_type": "stream",
     "text": [
      "Loaded grid batch total number of voxels:  34082372\n",
      "Loaded grid batch data type: torch.int32, device: cuda:0\n"
     ]
    }
   ],
   "source": [
    "grid_batch, features, names = fvdb.load(\"minecraft-serialization/build/region.nvdb\", device=torch.device(\"cuda:0\"))\n",
    "print(\"Loaded grid batch total number of voxels: \", grid_batch.total_voxels)\n",
    "print(\"Loaded grid batch data type: %s, device: %s\" % (features.dtype, features.device))"
   ]
  }
 ],
 "metadata": {
  "kernelspec": {
   "display_name": "fvdb",
   "language": "python",
   "name": "python3"
  },
  "language_info": {
   "codemirror_mode": {
    "name": "ipython",
    "version": 3
   },
   "file_extension": ".py",
   "mimetype": "text/x-python",
   "name": "python",
   "nbconvert_exporter": "python",
   "pygments_lexer": "ipython3",
   "version": "3.10.16"
  }
 },
 "nbformat": 4,
 "nbformat_minor": 2
}
