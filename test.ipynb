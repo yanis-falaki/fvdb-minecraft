{
 "cells": [
  {
   "cell_type": "code",
   "execution_count": 1,
   "metadata": {},
   "outputs": [],
   "source": [
    "import fvdb\n",
    "from fvdb.nn import VDBTensor\n",
    "import torch\n",
    "\n",
    "fvdb.nn.SparseConv3d.allow_tf32 = False"
   ]
  },
  {
   "cell_type": "code",
   "execution_count": 2,
   "metadata": {},
   "outputs": [],
   "source": [
    "class DownSampleBlock(torch.nn.Module):\n",
    "    def __init__(self, in_channels, out_channels):\n",
    "        super().__init__()\n",
    "        self.conv1 = fvdb.nn.SparseConv3d(in_channels=in_channels, out_channels=out_channels, kernel_size=3, stride=1, bias=False)\n",
    "        self.norm1 = fvdb.nn.BatchNorm(num_features=out_channels)\n",
    "\n",
    "        self.conv2 = fvdb.nn.SparseConv3d(in_channels=out_channels, out_channels=out_channels, kernel_size=3, stride=1, bias=False)\n",
    "        self.norm2 = fvdb.nn.BatchNorm(num_features=out_channels)\n",
    "\n",
    "        self.relu = fvdb.nn.ReLU(inplace=True)\n",
    "        self.maxpool = fvdb.nn.MaxPool(2, 2)\n",
    "\n",
    "    def forward(self, x):\n",
    "        x = self.conv1(x)\n",
    "        x = self.norm1(x)\n",
    "        x = self.relu(x)\n",
    "\n",
    "        x = self.conv2(x)\n",
    "        x = self.norm2(x)\n",
    "\n",
    "        return x, self.maxpool(x)\n",
    "    \n",
    "class UpSampleBlock(torch.nn.Module):\n",
    "    def __init__(self, in_channels, out_channels):\n",
    "        super().__init__()\n",
    "        self.upconv = fvdb.nn.SparseConv3d(in_channels=in_channels, out_channels=out_channels, transposed=True)\n",
    "        self.upNorm = fvdb.nn.BatchNorm(out_channels)\n",
    "\n",
    "        # jcat will double the channel size\n",
    "        self.conv1 = fvdb.nn.SparseConv3d(in_channels=out_channels*2, out_channels=out_channels, kernel_size=3, stride=1, bias=False)\n",
    "        self.norm1 = fvdb.nn.BatchNorm(out_channels)\n",
    "\n",
    "        self.conv2 = fvdb.nn.SparseConv3d(in_channels=out_channels, out_channels=out_channels, kernel_size=3, stride=1, bias=False)\n",
    "        self.norm2 = fvdb.nn.BatchNorm(out_channels)\n",
    "\n",
    "        self.relu = fvdb.nn.ReLU(inplace=True)\n",
    "\n",
    "    def forward(self, x, x_skip):\n",
    "        x = self.upconv(x, x_skip.grid)\n",
    "        x = self.upNorm(x)\n",
    "        x = self.relu(x)\n",
    "        x = fvdb.jcat([x, x_skip], dim=1)\n",
    "\n",
    "        x = self.conv1(x)\n",
    "        x = self.norm1(x)\n",
    "        x = self.relu(x)\n",
    "\n",
    "        x = self.conv2(x)\n",
    "        x = self.norm2(x)\n",
    "        x = self.relu(x)\n",
    "\n",
    "        return x"
   ]
  },
  {
   "cell_type": "code",
   "execution_count": 3,
   "metadata": {},
   "outputs": [],
   "source": [
    "class Model(torch.nn.Module):\n",
    "    def __init__(self, total_classes):\n",
    "        super().__init__()\n",
    "\n",
    "        self.downSampleBlock1 = DownSampleBlock(1, 8)\n",
    "        self.downSampleBlock2 = DownSampleBlock(8, 16)\n",
    "        self.downSampleBlock3 = DownSampleBlock(16, 32)\n",
    "        self.downSampleBlock4 = DownSampleBlock(32, 64)\n",
    "\n",
    "        self.bottleneck1 = fvdb.nn.SparseConv3d(in_channels=64, out_channels=128, kernel_size=3, stride=1, bias=False)\n",
    "        self.bottleNorm1 = fvdb.nn.BatchNorm(num_features=128)\n",
    "        self.bottleneck2 = fvdb.nn.SparseConv3d(in_channels=128, out_channels=128, kernel_size=3, stride=1, bias=False)\n",
    "        self.bottleNorm2 = fvdb.nn.BatchNorm(128)\n",
    "\n",
    "        self.upsample4 = UpSampleBlock(128, 64)\n",
    "        self.upsample3 = UpSampleBlock(64, 32)\n",
    "        self.upsample2 = UpSampleBlock(32, 16)\n",
    "        self.upsample1 = UpSampleBlock(16, 8)\n",
    "\n",
    "        self.preFinalConv = fvdb.nn.SparseConv3d(in_channels=8, out_channels=8, kernel_size=3, stride=1, bias=False)\n",
    "        self.preFinalNorm = fvdb.nn.BatchNorm(8)\n",
    "\n",
    "        self.finalConv = fvdb.nn.SparseConv3d(in_channels=8, out_channels=total_classes, kernel_size=3, stride=1, bias=True)\n",
    "\n",
    "        self.relu = fvdb.nn.ReLU(inplace=True)\n",
    "\n",
    "    def forward(self, x):\n",
    "        og1, x = self.downSampleBlock1(x)\n",
    "\n",
    "        og2, x = self.downSampleBlock2(x)\n",
    "        og3, x = self.downSampleBlock3(x)\n",
    "        og4, x = self.downSampleBlock4(x)\n",
    "\n",
    "        x = self.bottleneck1(x)\n",
    "        x = self.bottleNorm1(x)\n",
    "        x = self.bottleneck2(x)\n",
    "        x = self.bottleNorm2(x)\n",
    "\n",
    "        x = self.upsample4(x, og4)\n",
    "        x = self.upsample3(x, og3)\n",
    "        x = self.upsample2(x, og2)\n",
    "        x = self.upsample1(x, og1)\n",
    "\n",
    "        x = self.preFinalConv(x)\n",
    "        x = self.preFinalNorm(x)\n",
    "        x = self.finalConv(x)\n",
    "\n",
    "        return x"
   ]
  },
  {
   "cell_type": "code",
   "execution_count": 4,
   "metadata": {},
   "outputs": [
    {
     "name": "stdout",
     "output_type": "stream",
     "text": [
      "Loaded grid batch total number of voxels:  14825\n",
      "Loaded grid batch data type: torch.int64, device: cuda:0\n"
     ]
    }
   ],
   "source": [
    "grid_batch, labels, names = fvdb.load(\"./data/training_data/chunks/3.0.0.nvdb\", device='cuda')\n",
    "labels = labels.to(torch.long)\n",
    "print(\"Loaded grid batch total number of voxels: \", grid_batch.total_voxels)\n",
    "print(\"Loaded grid batch data type: %s, device: %s\" % (labels.dtype, labels.device))"
   ]
  },
  {
   "cell_type": "code",
   "execution_count": 5,
   "metadata": {},
   "outputs": [],
   "source": [
    "active_feature_list = torch.ones(grid_batch[0].total_enabled_voxels, device='cuda', dtype=torch.float32).unsqueeze(-1)\n",
    "active_feature  = fvdb.JaggedTensor(active_feature_list).to(torch.float32)\n",
    "input = VDBTensor(grid_batch, active_feature)"
   ]
  },
  {
   "cell_type": "code",
   "execution_count": 6,
   "metadata": {},
   "outputs": [],
   "source": [
    "num_classes = 0\n",
    "with open(\"minecraft-serialization/block_list.txt\", 'r') as file:\n",
    "    num_classes = sum(1 for line in file)\n",
    "\n",
    "model = Model(num_classes).to('cuda')\n",
    "loss = torch.nn.CrossEntropyLoss()"
   ]
  },
  {
   "cell_type": "code",
   "execution_count": 7,
   "metadata": {},
   "outputs": [],
   "source": [
    "output = model(input)"
   ]
  },
  {
   "cell_type": "code",
   "execution_count": 8,
   "metadata": {},
   "outputs": [
    {
     "name": "stdout",
     "output_type": "stream",
     "text": [
      "Output shape: torch.Size([14825, 1060])\n",
      "Labels shape: torch.Size([14825, 1])\n",
      "torch.cuda.FloatTensor\n",
      "torch.cuda.LongTensor\n"
     ]
    }
   ],
   "source": [
    "print(\"Output shape:\", output.data.jdata.shape)\n",
    "print(\"Labels shape:\", labels.jdata.shape)\n",
    "print(output.data.jdata.type())\n",
    "print(labels.jdata.type())"
   ]
  },
  {
   "cell_type": "code",
   "execution_count": 9,
   "metadata": {},
   "outputs": [],
   "source": [
    "loss_val = loss(output.data.jdata, labels.jdata.squeeze(1))"
   ]
  },
  {
   "cell_type": "code",
   "execution_count": 11,
   "metadata": {},
   "outputs": [
    {
     "data": {
      "text/plain": [
       "tensor(7.1304, device='cuda:0', grad_fn=<NllLossBackward0>)"
      ]
     },
     "execution_count": 11,
     "metadata": {},
     "output_type": "execute_result"
    }
   ],
   "source": [
    "loss_val"
   ]
  }
 ],
 "metadata": {
  "kernelspec": {
   "display_name": "fvdb",
   "language": "python",
   "name": "python3"
  },
  "language_info": {
   "codemirror_mode": {
    "name": "ipython",
    "version": 3
   },
   "file_extension": ".py",
   "mimetype": "text/x-python",
   "name": "python",
   "nbconvert_exporter": "python",
   "pygments_lexer": "ipython3",
   "version": "3.10.16"
  }
 },
 "nbformat": 4,
 "nbformat_minor": 2
}
