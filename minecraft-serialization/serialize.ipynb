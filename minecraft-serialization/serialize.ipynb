{
 "cells": [
  {
   "cell_type": "code",
   "execution_count": 1,
   "metadata": {},
   "outputs": [
    {
     "name": "stderr",
     "output_type": "stream",
     "text": [
      "INFO - PyMCTranslate Version 317\n"
     ]
    }
   ],
   "source": [
    "import amulet\n",
    "from amulet.api.block import Block"
   ]
  },
  {
   "cell_type": "markdown",
   "metadata": {},
   "source": [
    "## Getting an Individual Block"
   ]
  },
  {
   "cell_type": "code",
   "execution_count": 2,
   "metadata": {},
   "outputs": [
    {
     "name": "stderr",
     "output_type": "stream",
     "text": [
      "INFO - Loading level custom_saves/world1\n"
     ]
    },
    {
     "name": "stdout",
     "output_type": "stream",
     "text": [
      "minecraft:hay_block[axis=\"x\"]\n"
     ]
    }
   ],
   "source": [
    "level = amulet.load_level(\"custom_saves/world1\")\n",
    "\n",
    "game_version = (\"java\", (1, 21, 4))\n",
    "\n",
    "# get a block\n",
    "block, block_entity = level.get_version_block(\n",
    "    -470,  # x location\n",
    "    117,  # y location\n",
    "    115,  # z location\n",
    "    \"minecraft:overworld\",\n",
    "    game_version,\n",
    ")\n",
    "\n",
    "if isinstance(block, Block):\n",
    "    # Check that what we have is actually a block.\n",
    "    # There are some edge cases such as item frames where the returned value might not be a Block.\n",
    "    print(block)\n",
    "    # Block(minecraft:air)\n",
    "\n",
    "level.close()"
   ]
  },
  {
   "cell_type": "markdown",
   "metadata": {},
   "source": [
    "## Iterating Through a Rectangular Prism Region"
   ]
  },
  {
   "cell_type": "code",
   "execution_count": 12,
   "metadata": {},
   "outputs": [],
   "source": [
    "def iterate(num_blocks = 10000):\n",
    "    level = amulet.load_level(\"custom_saves/world1\")\n",
    "    game_version = (\"java\", (1, 21, 4))\n",
    "\n",
    "    length = round(num_blocks ** (1/3))\n",
    "\n",
    "    blocks = []\n",
    "\n",
    "    for x in range(length):\n",
    "        for y in range(length):\n",
    "            for z in range(length):\n",
    "                block, block_entity = level.get_version_block(\n",
    "                    x - 500,  # x location\n",
    "                    y + 90,  # y location\n",
    "                    z + 90,  # z location\n",
    "                    \"minecraft:overworld\",\n",
    "                    game_version,\n",
    "                )\n",
    "\n",
    "                blocks.append(((x, y, z), block))\n",
    "                \n",
    "                \n",
    "    level.close()\n",
    "    return blocks\n"
   ]
  },
  {
   "cell_type": "code",
   "execution_count": 13,
   "metadata": {},
   "outputs": [
    {
     "name": "stderr",
     "output_type": "stream",
     "text": [
      "INFO - Loading level custom_saves/world1\n"
     ]
    },
    {
     "name": "stdout",
     "output_type": "stream",
     "text": [
      "[((0, 0, 0), Block(minecraft:stone)), ((0, 0, 1), Block(minecraft:stone)), ((0, 0, 2), Block(minecraft:stone)), ((0, 0, 3), Block(minecraft:stone)), ((0, 0, 4), Block(minecraft:stone)), ((0, 0, 5), Block(minecraft:stone)), ((0, 0, 6), Block(minecraft:stone)), ((0, 0, 7), Block(minecraft:stone)), ((0, 0, 8), Block(minecraft:stone)), ((0, 0, 9), Block(minecraft:stone)), ((0, 1, 0), Block(minecraft:stone)), ((0, 1, 1), Block(minecraft:stone)), ((0, 1, 2), Block(minecraft:stone)), ((0, 1, 3), Block(minecraft:stone)), ((0, 1, 4), Block(minecraft:stone)), ((0, 1, 5), Block(minecraft:stone)), ((0, 1, 6), Block(minecraft:stone)), ((0, 1, 7), Block(minecraft:stone)), ((0, 1, 8), Block(minecraft:stone)), ((0, 1, 9), Block(minecraft:stone)), ((0, 2, 0), Block(minecraft:stone)), ((0, 2, 1), Block(minecraft:stone)), ((0, 2, 2), Block(minecraft:stone)), ((0, 2, 3), Block(minecraft:stone)), ((0, 2, 4), Block(minecraft:stone)), ((0, 2, 5), Block(minecraft:stone)), ((0, 2, 6), Block(minecraft:stone)), ((0, 2, 7), Block(minecraft:stone)), ((0, 2, 8), Block(minecraft:stone)), ((0, 2, 9), Block(minecraft:stone)), ((0, 3, 0), Block(minecraft:stone)), ((0, 3, 1), Block(minecraft:stone)), ((0, 3, 2), Block(minecraft:stone)), ((0, 3, 3), Block(minecraft:stone)), ((0, 3, 4), Block(minecraft:stone)), ((0, 3, 5), Block(minecraft:stone)), ((0, 3, 6), Block(minecraft:stone)), ((0, 3, 7), Block(minecraft:stone)), ((0, 3, 8), Block(minecraft:stone)), ((0, 3, 9), Block(minecraft:stone)), ((0, 4, 0), Block(minecraft:stone)), ((0, 4, 1), Block(minecraft:stone)), ((0, 4, 2), Block(minecraft:stone)), ((0, 4, 3), Block(minecraft:stone)), ((0, 4, 4), Block(minecraft:stone)), ((0, 4, 5), Block(minecraft:stone)), ((0, 4, 6), Block(minecraft:stone)), ((0, 4, 7), Block(minecraft:stone)), ((0, 4, 8), Block(minecraft:stone)), ((0, 4, 9), Block(minecraft:stone)), ((0, 5, 0), Block(minecraft:stone)), ((0, 5, 1), Block(minecraft:stone)), ((0, 5, 2), Block(minecraft:stone)), ((0, 5, 3), Block(minecraft:stone)), ((0, 5, 4), Block(minecraft:stone)), ((0, 5, 5), Block(minecraft:stone)), ((0, 5, 6), Block(minecraft:stone)), ((0, 5, 7), Block(minecraft:stone)), ((0, 5, 8), Block(minecraft:stone)), ((0, 5, 9), Block(minecraft:stone)), ((0, 6, 0), Block(minecraft:dirt)), ((0, 6, 1), Block(minecraft:stone)), ((0, 6, 2), Block(minecraft:stone)), ((0, 6, 3), Block(minecraft:stone)), ((0, 6, 4), Block(minecraft:stone)), ((0, 6, 5), Block(minecraft:stone)), ((0, 6, 6), Block(minecraft:stone)), ((0, 6, 7), Block(minecraft:stone)), ((0, 6, 8), Block(minecraft:stone)), ((0, 6, 9), Block(minecraft:stone)), ((0, 7, 0), Block(minecraft:dirt)), ((0, 7, 1), Block(minecraft:dirt)), ((0, 7, 2), Block(minecraft:stone)), ((0, 7, 3), Block(minecraft:stone)), ((0, 7, 4), Block(minecraft:stone)), ((0, 7, 5), Block(minecraft:stone)), ((0, 7, 6), Block(minecraft:stone)), ((0, 7, 7), Block(minecraft:stone)), ((0, 7, 8), Block(minecraft:stone)), ((0, 7, 9), Block(minecraft:stone)), ((0, 8, 0), Block(minecraft:dirt)), ((0, 8, 1), Block(minecraft:dirt)), ((0, 8, 2), Block(minecraft:dirt)), ((0, 8, 3), Block(minecraft:stone)), ((0, 8, 4), Block(minecraft:stone)), ((0, 8, 5), Block(minecraft:stone)), ((0, 8, 6), Block(minecraft:stone)), ((0, 8, 7), Block(minecraft:stone)), ((0, 8, 8), Block(minecraft:stone)), ((0, 8, 9), Block(minecraft:stone)), ((0, 9, 0), Block(minecraft:grass_block[snowy=\"false\"])), ((0, 9, 1), Block(minecraft:dirt)), ((0, 9, 2), Block(minecraft:dirt)), ((0, 9, 3), Block(minecraft:stone)), ((0, 9, 4), Block(minecraft:stone)), ((0, 9, 5), Block(minecraft:stone)), ((0, 9, 6), Block(minecraft:stone)), ((0, 9, 7), Block(minecraft:stone)), ((0, 9, 8), Block(minecraft:stone)), ((0, 9, 9), Block(minecraft:stone)), ((1, 0, 0), Block(minecraft:stone)), ((1, 0, 1), Block(minecraft:stone)), ((1, 0, 2), Block(minecraft:stone)), ((1, 0, 3), Block(minecraft:stone)), ((1, 0, 4), Block(minecraft:stone)), ((1, 0, 5), Block(minecraft:stone)), ((1, 0, 6), Block(minecraft:stone)), ((1, 0, 7), Block(minecraft:stone)), ((1, 0, 8), Block(minecraft:stone)), ((1, 0, 9), Block(minecraft:stone)), ((1, 1, 0), Block(minecraft:stone)), ((1, 1, 1), Block(minecraft:stone)), ((1, 1, 2), Block(minecraft:stone)), ((1, 1, 3), Block(minecraft:stone)), ((1, 1, 4), Block(minecraft:stone)), ((1, 1, 5), Block(minecraft:stone)), ((1, 1, 6), Block(minecraft:stone)), ((1, 1, 7), Block(minecraft:stone)), ((1, 1, 8), Block(minecraft:stone)), ((1, 1, 9), Block(minecraft:stone)), ((1, 2, 0), Block(minecraft:stone)), ((1, 2, 1), Block(minecraft:stone)), ((1, 2, 2), Block(minecraft:stone)), ((1, 2, 3), Block(minecraft:stone)), ((1, 2, 4), Block(minecraft:stone)), ((1, 2, 5), Block(minecraft:stone)), ((1, 2, 6), Block(minecraft:stone)), ((1, 2, 7), Block(minecraft:stone)), ((1, 2, 8), Block(minecraft:stone)), ((1, 2, 9), Block(minecraft:stone)), ((1, 3, 0), Block(minecraft:stone)), ((1, 3, 1), Block(minecraft:stone)), ((1, 3, 2), Block(minecraft:stone)), ((1, 3, 3), Block(minecraft:stone)), ((1, 3, 4), Block(minecraft:stone)), ((1, 3, 5), Block(minecraft:stone)), ((1, 3, 6), Block(minecraft:stone)), ((1, 3, 7), Block(minecraft:stone)), ((1, 3, 8), Block(minecraft:stone)), ((1, 3, 9), Block(minecraft:stone)), ((1, 4, 0), Block(minecraft:stone)), ((1, 4, 1), Block(minecraft:stone)), ((1, 4, 2), Block(minecraft:stone)), ((1, 4, 3), Block(minecraft:stone)), ((1, 4, 4), Block(minecraft:stone)), ((1, 4, 5), Block(minecraft:stone)), ((1, 4, 6), Block(minecraft:stone)), ((1, 4, 7), Block(minecraft:stone)), ((1, 4, 8), Block(minecraft:stone)), ((1, 4, 9), Block(minecraft:stone)), ((1, 5, 0), Block(minecraft:stone)), ((1, 5, 1), Block(minecraft:stone)), ((1, 5, 2), Block(minecraft:stone)), ((1, 5, 3), Block(minecraft:stone)), ((1, 5, 4), Block(minecraft:stone)), ((1, 5, 5), Block(minecraft:stone)), ((1, 5, 6), Block(minecraft:stone)), ((1, 5, 7), Block(minecraft:stone)), ((1, 5, 8), Block(minecraft:stone)), ((1, 5, 9), Block(minecraft:stone)), ((1, 6, 0), Block(minecraft:stone)), ((1, 6, 1), Block(minecraft:stone)), ((1, 6, 2), Block(minecraft:stone)), ((1, 6, 3), Block(minecraft:stone)), ((1, 6, 4), Block(minecraft:stone)), ((1, 6, 5), Block(minecraft:stone)), ((1, 6, 6), Block(minecraft:stone)), ((1, 6, 7), Block(minecraft:stone)), ((1, 6, 8), Block(minecraft:stone)), ((1, 6, 9), Block(minecraft:stone)), ((1, 7, 0), Block(minecraft:dirt)), ((1, 7, 1), Block(minecraft:stone)), ((1, 7, 2), Block(minecraft:stone)), ((1, 7, 3), Block(minecraft:stone)), ((1, 7, 4), Block(minecraft:stone)), ((1, 7, 5), Block(minecraft:stone)), ((1, 7, 6), Block(minecraft:stone)), ((1, 7, 7), Block(minecraft:stone)), ((1, 7, 8), Block(minecraft:stone)), ((1, 7, 9), Block(minecraft:stone)), ((1, 8, 0), Block(minecraft:dirt)), ((1, 8, 1), Block(minecraft:dirt)), ((1, 8, 2), Block(minecraft:stone)), ((1, 8, 3), Block(minecraft:stone)), ((1, 8, 4), Block(minecraft:stone)), ((1, 8, 5), Block(minecraft:stone)), ((1, 8, 6), Block(minecraft:stone)), ((1, 8, 7), Block(minecraft:stone)), ((1, 8, 8), Block(minecraft:stone)), ((1, 8, 9), Block(minecraft:stone)), ((1, 9, 0), Block(minecraft:dirt)), ((1, 9, 1), Block(minecraft:dirt)), ((1, 9, 2), Block(minecraft:dirt)), ((1, 9, 3), Block(minecraft:stone)), ((1, 9, 4), Block(minecraft:stone)), ((1, 9, 5), Block(minecraft:stone)), ((1, 9, 6), Block(minecraft:stone)), ((1, 9, 7), Block(minecraft:stone)), ((1, 9, 8), Block(minecraft:stone)), ((1, 9, 9), Block(minecraft:stone)), ((2, 0, 0), Block(minecraft:stone)), ((2, 0, 1), Block(minecraft:stone)), ((2, 0, 2), Block(minecraft:stone)), ((2, 0, 3), Block(minecraft:stone)), ((2, 0, 4), Block(minecraft:stone)), ((2, 0, 5), Block(minecraft:stone)), ((2, 0, 6), Block(minecraft:stone)), ((2, 0, 7), Block(minecraft:stone)), ((2, 0, 8), Block(minecraft:stone)), ((2, 0, 9), Block(minecraft:stone)), ((2, 1, 0), Block(minecraft:stone)), ((2, 1, 1), Block(minecraft:stone)), ((2, 1, 2), Block(minecraft:stone)), ((2, 1, 3), Block(minecraft:stone)), ((2, 1, 4), Block(minecraft:stone)), ((2, 1, 5), Block(minecraft:stone)), ((2, 1, 6), Block(minecraft:stone)), ((2, 1, 7), Block(minecraft:stone)), ((2, 1, 8), Block(minecraft:stone)), ((2, 1, 9), Block(minecraft:stone)), ((2, 2, 0), Block(minecraft:stone)), ((2, 2, 1), Block(minecraft:stone)), ((2, 2, 2), Block(minecraft:stone)), ((2, 2, 3), Block(minecraft:stone)), ((2, 2, 4), Block(minecraft:stone)), ((2, 2, 5), Block(minecraft:stone)), ((2, 2, 6), Block(minecraft:stone)), ((2, 2, 7), Block(minecraft:stone)), ((2, 2, 8), Block(minecraft:stone)), ((2, 2, 9), Block(minecraft:stone)), ((2, 3, 0), Block(minecraft:stone)), ((2, 3, 1), Block(minecraft:stone)), ((2, 3, 2), Block(minecraft:stone)), ((2, 3, 3), Block(minecraft:stone)), ((2, 3, 4), Block(minecraft:stone)), ((2, 3, 5), Block(minecraft:stone)), ((2, 3, 6), Block(minecraft:stone)), ((2, 3, 7), Block(minecraft:stone)), ((2, 3, 8), Block(minecraft:stone)), ((2, 3, 9), Block(minecraft:stone)), ((2, 4, 0), Block(minecraft:stone)), ((2, 4, 1), Block(minecraft:stone)), ((2, 4, 2), Block(minecraft:stone)), ((2, 4, 3), Block(minecraft:stone)), ((2, 4, 4), Block(minecraft:stone)), ((2, 4, 5), Block(minecraft:stone)), ((2, 4, 6), Block(minecraft:stone)), ((2, 4, 7), Block(minecraft:stone)), ((2, 4, 8), Block(minecraft:stone)), ((2, 4, 9), Block(minecraft:stone)), ((2, 5, 0), Block(minecraft:stone)), ((2, 5, 1), Block(minecraft:stone)), ((2, 5, 2), Block(minecraft:stone)), ((2, 5, 3), Block(minecraft:stone)), ((2, 5, 4), Block(minecraft:stone)), ((2, 5, 5), Block(minecraft:stone)), ((2, 5, 6), Block(minecraft:stone)), ((2, 5, 7), Block(minecraft:stone)), ((2, 5, 8), Block(minecraft:stone)), ((2, 5, 9), Block(minecraft:stone)), ((2, 6, 0), Block(minecraft:stone)), ((2, 6, 1), Block(minecraft:stone)), ((2, 6, 2), Block(minecraft:stone)), ((2, 6, 3), Block(minecraft:stone)), ((2, 6, 4), Block(minecraft:stone)), ((2, 6, 5), Block(minecraft:stone)), ((2, 6, 6), Block(minecraft:stone)), ((2, 6, 7), Block(minecraft:stone)), ((2, 6, 8), Block(minecraft:stone)), ((2, 6, 9), Block(minecraft:stone)), ((2, 7, 0), Block(minecraft:stone)), ((2, 7, 1), Block(minecraft:stone)), ((2, 7, 2), Block(minecraft:stone)), ((2, 7, 3), Block(minecraft:stone)), ((2, 7, 4), Block(minecraft:stone)), ((2, 7, 5), Block(minecraft:stone)), ((2, 7, 6), Block(minecraft:stone)), ((2, 7, 7), Block(minecraft:stone)), ((2, 7, 8), Block(minecraft:stone)), ((2, 7, 9), Block(minecraft:stone)), ((2, 8, 0), Block(minecraft:dirt)), ((2, 8, 1), Block(minecraft:stone)), ((2, 8, 2), Block(minecraft:stone)), ((2, 8, 3), Block(minecraft:stone)), ((2, 8, 4), Block(minecraft:stone)), ((2, 8, 5), Block(minecraft:stone)), ((2, 8, 6), Block(minecraft:stone)), ((2, 8, 7), Block(minecraft:stone)), ((2, 8, 8), Block(minecraft:stone)), ((2, 8, 9), Block(minecraft:stone)), ((2, 9, 0), Block(minecraft:dirt)), ((2, 9, 1), Block(minecraft:dirt)), ((2, 9, 2), Block(minecraft:stone)), ((2, 9, 3), Block(minecraft:stone)), ((2, 9, 4), Block(minecraft:stone)), ((2, 9, 5), Block(minecraft:stone)), ((2, 9, 6), Block(minecraft:stone)), ((2, 9, 7), Block(minecraft:stone)), ((2, 9, 8), Block(minecraft:stone)), ((2, 9, 9), Block(minecraft:stone)), ((3, 0, 0), Block(minecraft:stone)), ((3, 0, 1), Block(minecraft:stone)), ((3, 0, 2), Block(minecraft:stone)), ((3, 0, 3), Block(minecraft:stone)), ((3, 0, 4), Block(minecraft:stone)), ((3, 0, 5), Block(minecraft:stone)), ((3, 0, 6), Block(minecraft:stone)), ((3, 0, 7), Block(minecraft:stone)), ((3, 0, 8), Block(minecraft:stone)), ((3, 0, 9), Block(minecraft:stone)), ((3, 1, 0), Block(minecraft:stone)), ((3, 1, 1), Block(minecraft:stone)), ((3, 1, 2), Block(minecraft:stone)), ((3, 1, 3), Block(minecraft:stone)), ((3, 1, 4), Block(minecraft:stone)), ((3, 1, 5), Block(minecraft:stone)), ((3, 1, 6), Block(minecraft:stone)), ((3, 1, 7), Block(minecraft:stone)), ((3, 1, 8), Block(minecraft:stone)), ((3, 1, 9), Block(minecraft:stone)), ((3, 2, 0), Block(minecraft:stone)), ((3, 2, 1), Block(minecraft:stone)), ((3, 2, 2), Block(minecraft:stone)), ((3, 2, 3), Block(minecraft:stone)), ((3, 2, 4), Block(minecraft:stone)), ((3, 2, 5), Block(minecraft:stone)), ((3, 2, 6), Block(minecraft:stone)), ((3, 2, 7), Block(minecraft:stone)), ((3, 2, 8), Block(minecraft:stone)), ((3, 2, 9), Block(minecraft:stone)), ((3, 3, 0), Block(minecraft:stone)), ((3, 3, 1), Block(minecraft:stone)), ((3, 3, 2), Block(minecraft:stone)), ((3, 3, 3), Block(minecraft:stone)), ((3, 3, 4), Block(minecraft:stone)), ((3, 3, 5), Block(minecraft:stone)), ((3, 3, 6), Block(minecraft:stone)), ((3, 3, 7), Block(minecraft:stone)), ((3, 3, 8), Block(minecraft:stone)), ((3, 3, 9), Block(minecraft:stone)), ((3, 4, 0), Block(minecraft:stone)), ((3, 4, 1), Block(minecraft:stone)), ((3, 4, 2), Block(minecraft:stone)), ((3, 4, 3), Block(minecraft:stone)), ((3, 4, 4), Block(minecraft:stone)), ((3, 4, 5), Block(minecraft:stone)), ((3, 4, 6), Block(minecraft:stone)), ((3, 4, 7), Block(minecraft:stone)), ((3, 4, 8), Block(minecraft:stone)), ((3, 4, 9), Block(minecraft:stone)), ((3, 5, 0), Block(minecraft:stone)), ((3, 5, 1), Block(minecraft:stone)), ((3, 5, 2), Block(minecraft:stone)), ((3, 5, 3), Block(minecraft:stone)), ((3, 5, 4), Block(minecraft:stone)), ((3, 5, 5), Block(minecraft:stone)), ((3, 5, 6), Block(minecraft:stone)), ((3, 5, 7), Block(minecraft:stone)), ((3, 5, 8), Block(minecraft:stone)), ((3, 5, 9), Block(minecraft:stone)), ((3, 6, 0), Block(minecraft:stone)), ((3, 6, 1), Block(minecraft:stone)), ((3, 6, 2), Block(minecraft:stone)), ((3, 6, 3), Block(minecraft:stone)), ((3, 6, 4), Block(minecraft:stone)), ((3, 6, 5), Block(minecraft:stone)), ((3, 6, 6), Block(minecraft:stone)), ((3, 6, 7), Block(minecraft:stone)), ((3, 6, 8), Block(minecraft:stone)), ((3, 6, 9), Block(minecraft:stone)), ((3, 7, 0), Block(minecraft:stone)), ((3, 7, 1), Block(minecraft:stone)), ((3, 7, 2), Block(minecraft:stone)), ((3, 7, 3), Block(minecraft:stone)), ((3, 7, 4), Block(minecraft:stone)), ((3, 7, 5), Block(minecraft:stone)), ((3, 7, 6), Block(minecraft:stone)), ((3, 7, 7), Block(minecraft:stone)), ((3, 7, 8), Block(minecraft:stone)), ((3, 7, 9), Block(minecraft:stone)), ((3, 8, 0), Block(minecraft:stone)), ((3, 8, 1), Block(minecraft:stone)), ((3, 8, 2), Block(minecraft:stone)), ((3, 8, 3), Block(minecraft:stone)), ((3, 8, 4), Block(minecraft:stone)), ((3, 8, 5), Block(minecraft:stone)), ((3, 8, 6), Block(minecraft:stone)), ((3, 8, 7), Block(minecraft:stone)), ((3, 8, 8), Block(minecraft:stone)), ((3, 8, 9), Block(minecraft:stone)), ((3, 9, 0), Block(minecraft:dirt)), ((3, 9, 1), Block(minecraft:stone)), ((3, 9, 2), Block(minecraft:stone)), ((3, 9, 3), Block(minecraft:stone)), ((3, 9, 4), Block(minecraft:stone)), ((3, 9, 5), Block(minecraft:stone)), ((3, 9, 6), Block(minecraft:stone)), ((3, 9, 7), Block(minecraft:stone)), ((3, 9, 8), Block(minecraft:stone)), ((3, 9, 9), Block(minecraft:stone)), ((4, 0, 0), Block(minecraft:stone)), ((4, 0, 1), Block(minecraft:stone)), ((4, 0, 2), Block(minecraft:stone)), ((4, 0, 3), Block(minecraft:stone)), ((4, 0, 4), Block(minecraft:stone)), ((4, 0, 5), Block(minecraft:stone)), ((4, 0, 6), Block(minecraft:stone)), ((4, 0, 7), Block(minecraft:stone)), ((4, 0, 8), Block(minecraft:stone)), ((4, 0, 9), Block(minecraft:stone)), ((4, 1, 0), Block(minecraft:stone)), ((4, 1, 1), Block(minecraft:stone)), ((4, 1, 2), Block(minecraft:stone)), ((4, 1, 3), Block(minecraft:stone)), ((4, 1, 4), Block(minecraft:stone)), ((4, 1, 5), Block(minecraft:stone)), ((4, 1, 6), Block(minecraft:stone)), ((4, 1, 7), Block(minecraft:stone)), ((4, 1, 8), Block(minecraft:stone)), ((4, 1, 9), Block(minecraft:stone)), ((4, 2, 0), Block(minecraft:stone)), ((4, 2, 1), Block(minecraft:stone)), ((4, 2, 2), Block(minecraft:stone)), ((4, 2, 3), Block(minecraft:stone)), ((4, 2, 4), Block(minecraft:stone)), ((4, 2, 5), Block(minecraft:stone)), ((4, 2, 6), Block(minecraft:stone)), ((4, 2, 7), Block(minecraft:stone)), ((4, 2, 8), Block(minecraft:stone)), ((4, 2, 9), Block(minecraft:stone)), ((4, 3, 0), Block(minecraft:stone)), ((4, 3, 1), Block(minecraft:stone)), ((4, 3, 2), Block(minecraft:stone)), ((4, 3, 3), Block(minecraft:stone)), ((4, 3, 4), Block(minecraft:stone)), ((4, 3, 5), Block(minecraft:stone)), ((4, 3, 6), Block(minecraft:stone)), ((4, 3, 7), Block(minecraft:stone)), ((4, 3, 8), Block(minecraft:stone)), ((4, 3, 9), Block(minecraft:stone)), ((4, 4, 0), Block(minecraft:stone)), ((4, 4, 1), Block(minecraft:stone)), ((4, 4, 2), Block(minecraft:stone)), ((4, 4, 3), Block(minecraft:stone)), ((4, 4, 4), Block(minecraft:stone)), ((4, 4, 5), Block(minecraft:stone)), ((4, 4, 6), Block(minecraft:stone)), ((4, 4, 7), Block(minecraft:stone)), ((4, 4, 8), Block(minecraft:stone)), ((4, 4, 9), Block(minecraft:stone)), ((4, 5, 0), Block(minecraft:stone)), ((4, 5, 1), Block(minecraft:stone)), ((4, 5, 2), Block(minecraft:stone)), ((4, 5, 3), Block(minecraft:stone)), ((4, 5, 4), Block(minecraft:stone)), ((4, 5, 5), Block(minecraft:stone)), ((4, 5, 6), Block(minecraft:stone)), ((4, 5, 7), Block(minecraft:stone)), ((4, 5, 8), Block(minecraft:stone)), ((4, 5, 9), Block(minecraft:stone)), ((4, 6, 0), Block(minecraft:stone)), ((4, 6, 1), Block(minecraft:stone)), ((4, 6, 2), Block(minecraft:stone)), ((4, 6, 3), Block(minecraft:stone)), ((4, 6, 4), Block(minecraft:stone)), ((4, 6, 5), Block(minecraft:stone)), ((4, 6, 6), Block(minecraft:stone)), ((4, 6, 7), Block(minecraft:stone)), ((4, 6, 8), Block(minecraft:stone)), ((4, 6, 9), Block(minecraft:stone)), ((4, 7, 0), Block(minecraft:stone)), ((4, 7, 1), Block(minecraft:stone)), ((4, 7, 2), Block(minecraft:stone)), ((4, 7, 3), Block(minecraft:stone)), ((4, 7, 4), Block(minecraft:stone)), ((4, 7, 5), Block(minecraft:stone)), ((4, 7, 6), Block(minecraft:stone)), ((4, 7, 7), Block(minecraft:stone)), ((4, 7, 8), Block(minecraft:stone)), ((4, 7, 9), Block(minecraft:stone)), ((4, 8, 0), Block(minecraft:stone)), ((4, 8, 1), Block(minecraft:stone)), ((4, 8, 2), Block(minecraft:stone)), ((4, 8, 3), Block(minecraft:stone)), ((4, 8, 4), Block(minecraft:stone)), ((4, 8, 5), Block(minecraft:stone)), ((4, 8, 6), Block(minecraft:stone)), ((4, 8, 7), Block(minecraft:stone)), ((4, 8, 8), Block(minecraft:stone)), ((4, 8, 9), Block(minecraft:stone)), ((4, 9, 0), Block(minecraft:stone)), ((4, 9, 1), Block(minecraft:stone)), ((4, 9, 2), Block(minecraft:stone)), ((4, 9, 3), Block(minecraft:stone)), ((4, 9, 4), Block(minecraft:stone)), ((4, 9, 5), Block(minecraft:stone)), ((4, 9, 6), Block(minecraft:stone)), ((4, 9, 7), Block(minecraft:stone)), ((4, 9, 8), Block(minecraft:stone)), ((4, 9, 9), Block(minecraft:stone)), ((5, 0, 0), Block(minecraft:stone)), ((5, 0, 1), Block(minecraft:stone)), ((5, 0, 2), Block(minecraft:stone)), ((5, 0, 3), Block(minecraft:stone)), ((5, 0, 4), Block(minecraft:stone)), ((5, 0, 5), Block(minecraft:stone)), ((5, 0, 6), Block(minecraft:stone)), ((5, 0, 7), Block(minecraft:stone)), ((5, 0, 8), Block(minecraft:stone)), ((5, 0, 9), Block(minecraft:stone)), ((5, 1, 0), Block(minecraft:stone)), ((5, 1, 1), Block(minecraft:stone)), ((5, 1, 2), Block(minecraft:stone)), ((5, 1, 3), Block(minecraft:stone)), ((5, 1, 4), Block(minecraft:stone)), ((5, 1, 5), Block(minecraft:stone)), ((5, 1, 6), Block(minecraft:stone)), ((5, 1, 7), Block(minecraft:stone)), ((5, 1, 8), Block(minecraft:stone)), ((5, 1, 9), Block(minecraft:stone)), ((5, 2, 0), Block(minecraft:stone)), ((5, 2, 1), Block(minecraft:stone)), ((5, 2, 2), Block(minecraft:stone)), ((5, 2, 3), Block(minecraft:stone)), ((5, 2, 4), Block(minecraft:stone)), ((5, 2, 5), Block(minecraft:stone)), ((5, 2, 6), Block(minecraft:stone)), ((5, 2, 7), Block(minecraft:stone)), ((5, 2, 8), Block(minecraft:stone)), ((5, 2, 9), Block(minecraft:stone)), ((5, 3, 0), Block(minecraft:stone)), ((5, 3, 1), Block(minecraft:stone)), ((5, 3, 2), Block(minecraft:stone)), ((5, 3, 3), Block(minecraft:stone)), ((5, 3, 4), Block(minecraft:stone)), ((5, 3, 5), Block(minecraft:stone)), ((5, 3, 6), Block(minecraft:stone)), ((5, 3, 7), Block(minecraft:stone)), ((5, 3, 8), Block(minecraft:stone)), ((5, 3, 9), Block(minecraft:stone)), ((5, 4, 0), Block(minecraft:stone)), ((5, 4, 1), Block(minecraft:stone)), ((5, 4, 2), Block(minecraft:stone)), ((5, 4, 3), Block(minecraft:stone)), ((5, 4, 4), Block(minecraft:stone)), ((5, 4, 5), Block(minecraft:stone)), ((5, 4, 6), Block(minecraft:stone)), ((5, 4, 7), Block(minecraft:stone)), ((5, 4, 8), Block(minecraft:stone)), ((5, 4, 9), Block(minecraft:stone)), ((5, 5, 0), Block(minecraft:stone)), ((5, 5, 1), Block(minecraft:stone)), ((5, 5, 2), Block(minecraft:stone)), ((5, 5, 3), Block(minecraft:stone)), ((5, 5, 4), Block(minecraft:stone)), ((5, 5, 5), Block(minecraft:stone)), ((5, 5, 6), Block(minecraft:stone)), ((5, 5, 7), Block(minecraft:stone)), ((5, 5, 8), Block(minecraft:stone)), ((5, 5, 9), Block(minecraft:stone)), ((5, 6, 0), Block(minecraft:stone)), ((5, 6, 1), Block(minecraft:stone)), ((5, 6, 2), Block(minecraft:stone)), ((5, 6, 3), Block(minecraft:stone)), ((5, 6, 4), Block(minecraft:stone)), ((5, 6, 5), Block(minecraft:stone)), ((5, 6, 6), Block(minecraft:stone)), ((5, 6, 7), Block(minecraft:stone)), ((5, 6, 8), Block(minecraft:stone)), ((5, 6, 9), Block(minecraft:stone)), ((5, 7, 0), Block(minecraft:stone)), ((5, 7, 1), Block(minecraft:stone)), ((5, 7, 2), Block(minecraft:stone)), ((5, 7, 3), Block(minecraft:stone)), ((5, 7, 4), Block(minecraft:stone)), ((5, 7, 5), Block(minecraft:stone)), ((5, 7, 6), Block(minecraft:stone)), ((5, 7, 7), Block(minecraft:stone)), ((5, 7, 8), Block(minecraft:stone)), ((5, 7, 9), Block(minecraft:stone)), ((5, 8, 0), Block(minecraft:stone)), ((5, 8, 1), Block(minecraft:stone)), ((5, 8, 2), Block(minecraft:stone)), ((5, 8, 3), Block(minecraft:stone)), ((5, 8, 4), Block(minecraft:stone)), ((5, 8, 5), Block(minecraft:stone)), ((5, 8, 6), Block(minecraft:stone)), ((5, 8, 7), Block(minecraft:stone)), ((5, 8, 8), Block(minecraft:stone)), ((5, 8, 9), Block(minecraft:stone)), ((5, 9, 0), Block(minecraft:stone)), ((5, 9, 1), Block(minecraft:stone)), ((5, 9, 2), Block(minecraft:stone)), ((5, 9, 3), Block(minecraft:stone)), ((5, 9, 4), Block(minecraft:stone)), ((5, 9, 5), Block(minecraft:stone)), ((5, 9, 6), Block(minecraft:stone)), ((5, 9, 7), Block(minecraft:stone)), ((5, 9, 8), Block(minecraft:stone)), ((5, 9, 9), Block(minecraft:stone)), ((6, 0, 0), Block(minecraft:stone)), ((6, 0, 1), Block(minecraft:stone)), ((6, 0, 2), Block(minecraft:stone)), ((6, 0, 3), Block(minecraft:stone)), ((6, 0, 4), Block(minecraft:stone)), ((6, 0, 5), Block(minecraft:stone)), ((6, 0, 6), Block(minecraft:stone)), ((6, 0, 7), Block(minecraft:stone)), ((6, 0, 8), Block(minecraft:stone)), ((6, 0, 9), Block(minecraft:stone)), ((6, 1, 0), Block(minecraft:stone)), ((6, 1, 1), Block(minecraft:stone)), ((6, 1, 2), Block(minecraft:stone)), ((6, 1, 3), Block(minecraft:stone)), ((6, 1, 4), Block(minecraft:stone)), ((6, 1, 5), Block(minecraft:stone)), ((6, 1, 6), Block(minecraft:stone)), ((6, 1, 7), Block(minecraft:stone)), ((6, 1, 8), Block(minecraft:stone)), ((6, 1, 9), Block(minecraft:stone)), ((6, 2, 0), Block(minecraft:stone)), ((6, 2, 1), Block(minecraft:stone)), ((6, 2, 2), Block(minecraft:stone)), ((6, 2, 3), Block(minecraft:stone)), ((6, 2, 4), Block(minecraft:stone)), ((6, 2, 5), Block(minecraft:stone)), ((6, 2, 6), Block(minecraft:stone)), ((6, 2, 7), Block(minecraft:stone)), ((6, 2, 8), Block(minecraft:stone)), ((6, 2, 9), Block(minecraft:stone)), ((6, 3, 0), Block(minecraft:stone)), ((6, 3, 1), Block(minecraft:stone)), ((6, 3, 2), Block(minecraft:stone)), ((6, 3, 3), Block(minecraft:stone)), ((6, 3, 4), Block(minecraft:stone)), ((6, 3, 5), Block(minecraft:stone)), ((6, 3, 6), Block(minecraft:stone)), ((6, 3, 7), Block(minecraft:stone)), ((6, 3, 8), Block(minecraft:stone)), ((6, 3, 9), Block(minecraft:stone)), ((6, 4, 0), Block(minecraft:stone)), ((6, 4, 1), Block(minecraft:stone)), ((6, 4, 2), Block(minecraft:stone)), ((6, 4, 3), Block(minecraft:stone)), ((6, 4, 4), Block(minecraft:stone)), ((6, 4, 5), Block(minecraft:stone)), ((6, 4, 6), Block(minecraft:stone)), ((6, 4, 7), Block(minecraft:stone)), ((6, 4, 8), Block(minecraft:stone)), ((6, 4, 9), Block(minecraft:stone)), ((6, 5, 0), Block(minecraft:stone)), ((6, 5, 1), Block(minecraft:stone)), ((6, 5, 2), Block(minecraft:stone)), ((6, 5, 3), Block(minecraft:stone)), ((6, 5, 4), Block(minecraft:stone)), ((6, 5, 5), Block(minecraft:stone)), ((6, 5, 6), Block(minecraft:stone)), ((6, 5, 7), Block(minecraft:stone)), ((6, 5, 8), Block(minecraft:stone)), ((6, 5, 9), Block(minecraft:stone)), ((6, 6, 0), Block(minecraft:stone)), ((6, 6, 1), Block(minecraft:stone)), ((6, 6, 2), Block(minecraft:stone)), ((6, 6, 3), Block(minecraft:stone)), ((6, 6, 4), Block(minecraft:stone)), ((6, 6, 5), Block(minecraft:stone)), ((6, 6, 6), Block(minecraft:stone)), ((6, 6, 7), Block(minecraft:stone)), ((6, 6, 8), Block(minecraft:stone)), ((6, 6, 9), Block(minecraft:stone)), ((6, 7, 0), Block(minecraft:stone)), ((6, 7, 1), Block(minecraft:stone)), ((6, 7, 2), Block(minecraft:stone)), ((6, 7, 3), Block(minecraft:stone)), ((6, 7, 4), Block(minecraft:stone)), ((6, 7, 5), Block(minecraft:stone)), ((6, 7, 6), Block(minecraft:stone)), ((6, 7, 7), Block(minecraft:stone)), ((6, 7, 8), Block(minecraft:stone)), ((6, 7, 9), Block(minecraft:stone)), ((6, 8, 0), Block(minecraft:stone)), ((6, 8, 1), Block(minecraft:stone)), ((6, 8, 2), Block(minecraft:stone)), ((6, 8, 3), Block(minecraft:stone)), ((6, 8, 4), Block(minecraft:stone)), ((6, 8, 5), Block(minecraft:stone)), ((6, 8, 6), Block(minecraft:stone)), ((6, 8, 7), Block(minecraft:stone)), ((6, 8, 8), Block(minecraft:stone)), ((6, 8, 9), Block(minecraft:stone)), ((6, 9, 0), Block(minecraft:stone)), ((6, 9, 1), Block(minecraft:stone)), ((6, 9, 2), Block(minecraft:stone)), ((6, 9, 3), Block(minecraft:stone)), ((6, 9, 4), Block(minecraft:stone)), ((6, 9, 5), Block(minecraft:stone)), ((6, 9, 6), Block(minecraft:stone)), ((6, 9, 7), Block(minecraft:stone)), ((6, 9, 8), Block(minecraft:stone)), ((6, 9, 9), Block(minecraft:stone)), ((7, 0, 0), Block(minecraft:stone)), ((7, 0, 1), Block(minecraft:stone)), ((7, 0, 2), Block(minecraft:stone)), ((7, 0, 3), Block(minecraft:stone)), ((7, 0, 4), Block(minecraft:stone)), ((7, 0, 5), Block(minecraft:stone)), ((7, 0, 6), Block(minecraft:stone)), ((7, 0, 7), Block(minecraft:stone)), ((7, 0, 8), Block(minecraft:stone)), ((7, 0, 9), Block(minecraft:air)), ((7, 1, 0), Block(minecraft:stone)), ((7, 1, 1), Block(minecraft:stone)), ((7, 1, 2), Block(minecraft:stone)), ((7, 1, 3), Block(minecraft:stone)), ((7, 1, 4), Block(minecraft:stone)), ((7, 1, 5), Block(minecraft:stone)), ((7, 1, 6), Block(minecraft:stone)), ((7, 1, 7), Block(minecraft:stone)), ((7, 1, 8), Block(minecraft:stone)), ((7, 1, 9), Block(minecraft:stone)), ((7, 2, 0), Block(minecraft:stone)), ((7, 2, 1), Block(minecraft:stone)), ((7, 2, 2), Block(minecraft:stone)), ((7, 2, 3), Block(minecraft:stone)), ((7, 2, 4), Block(minecraft:stone)), ((7, 2, 5), Block(minecraft:stone)), ((7, 2, 6), Block(minecraft:stone)), ((7, 2, 7), Block(minecraft:stone)), ((7, 2, 8), Block(minecraft:stone)), ((7, 2, 9), Block(minecraft:stone)), ((7, 3, 0), Block(minecraft:stone)), ((7, 3, 1), Block(minecraft:stone)), ((7, 3, 2), Block(minecraft:stone)), ((7, 3, 3), Block(minecraft:stone)), ((7, 3, 4), Block(minecraft:stone)), ((7, 3, 5), Block(minecraft:stone)), ((7, 3, 6), Block(minecraft:stone)), ((7, 3, 7), Block(minecraft:stone)), ((7, 3, 8), Block(minecraft:stone)), ((7, 3, 9), Block(minecraft:stone)), ((7, 4, 0), Block(minecraft:stone)), ((7, 4, 1), Block(minecraft:stone)), ((7, 4, 2), Block(minecraft:stone)), ((7, 4, 3), Block(minecraft:stone)), ((7, 4, 4), Block(minecraft:stone)), ((7, 4, 5), Block(minecraft:stone)), ((7, 4, 6), Block(minecraft:stone)), ((7, 4, 7), Block(minecraft:stone)), ((7, 4, 8), Block(minecraft:stone)), ((7, 4, 9), Block(minecraft:stone)), ((7, 5, 0), Block(minecraft:stone)), ((7, 5, 1), Block(minecraft:stone)), ((7, 5, 2), Block(minecraft:stone)), ((7, 5, 3), Block(minecraft:stone)), ((7, 5, 4), Block(minecraft:stone)), ((7, 5, 5), Block(minecraft:stone)), ((7, 5, 6), Block(minecraft:stone)), ((7, 5, 7), Block(minecraft:stone)), ((7, 5, 8), Block(minecraft:stone)), ((7, 5, 9), Block(minecraft:stone)), ((7, 6, 0), Block(minecraft:stone)), ((7, 6, 1), Block(minecraft:stone)), ((7, 6, 2), Block(minecraft:stone)), ((7, 6, 3), Block(minecraft:stone)), ((7, 6, 4), Block(minecraft:stone)), ((7, 6, 5), Block(minecraft:stone)), ((7, 6, 6), Block(minecraft:stone)), ((7, 6, 7), Block(minecraft:stone)), ((7, 6, 8), Block(minecraft:stone)), ((7, 6, 9), Block(minecraft:stone)), ((7, 7, 0), Block(minecraft:stone)), ((7, 7, 1), Block(minecraft:stone)), ((7, 7, 2), Block(minecraft:stone)), ((7, 7, 3), Block(minecraft:stone)), ((7, 7, 4), Block(minecraft:stone)), ((7, 7, 5), Block(minecraft:stone)), ((7, 7, 6), Block(minecraft:stone)), ((7, 7, 7), Block(minecraft:coal_ore)), ((7, 7, 8), Block(minecraft:stone)), ((7, 7, 9), Block(minecraft:stone)), ((7, 8, 0), Block(minecraft:stone)), ((7, 8, 1), Block(minecraft:stone)), ((7, 8, 2), Block(minecraft:stone)), ((7, 8, 3), Block(minecraft:stone)), ((7, 8, 4), Block(minecraft:stone)), ((7, 8, 5), Block(minecraft:stone)), ((7, 8, 6), Block(minecraft:stone)), ((7, 8, 7), Block(minecraft:stone)), ((7, 8, 8), Block(minecraft:stone)), ((7, 8, 9), Block(minecraft:stone)), ((7, 9, 0), Block(minecraft:stone)), ((7, 9, 1), Block(minecraft:stone)), ((7, 9, 2), Block(minecraft:stone)), ((7, 9, 3), Block(minecraft:stone)), ((7, 9, 4), Block(minecraft:stone)), ((7, 9, 5), Block(minecraft:stone)), ((7, 9, 6), Block(minecraft:stone)), ((7, 9, 7), Block(minecraft:stone)), ((7, 9, 8), Block(minecraft:stone)), ((7, 9, 9), Block(minecraft:stone)), ((8, 0, 0), Block(minecraft:stone)), ((8, 0, 1), Block(minecraft:stone)), ((8, 0, 2), Block(minecraft:stone)), ((8, 0, 3), Block(minecraft:stone)), ((8, 0, 4), Block(minecraft:stone)), ((8, 0, 5), Block(minecraft:stone)), ((8, 0, 6), Block(minecraft:stone)), ((8, 0, 7), Block(minecraft:air)), ((8, 0, 8), Block(minecraft:air)), ((8, 0, 9), Block(minecraft:air)), ((8, 1, 0), Block(minecraft:stone)), ((8, 1, 1), Block(minecraft:stone)), ((8, 1, 2), Block(minecraft:stone)), ((8, 1, 3), Block(minecraft:stone)), ((8, 1, 4), Block(minecraft:stone)), ((8, 1, 5), Block(minecraft:stone)), ((8, 1, 6), Block(minecraft:stone)), ((8, 1, 7), Block(minecraft:stone)), ((8, 1, 8), Block(minecraft:stone)), ((8, 1, 9), Block(minecraft:stone)), ((8, 2, 0), Block(minecraft:stone)), ((8, 2, 1), Block(minecraft:stone)), ((8, 2, 2), Block(minecraft:stone)), ((8, 2, 3), Block(minecraft:stone)), ((8, 2, 4), Block(minecraft:stone)), ((8, 2, 5), Block(minecraft:stone)), ((8, 2, 6), Block(minecraft:stone)), ((8, 2, 7), Block(minecraft:stone)), ((8, 2, 8), Block(minecraft:stone)), ((8, 2, 9), Block(minecraft:stone)), ((8, 3, 0), Block(minecraft:stone)), ((8, 3, 1), Block(minecraft:stone)), ((8, 3, 2), Block(minecraft:stone)), ((8, 3, 3), Block(minecraft:stone)), ((8, 3, 4), Block(minecraft:stone)), ((8, 3, 5), Block(minecraft:stone)), ((8, 3, 6), Block(minecraft:stone)), ((8, 3, 7), Block(minecraft:stone)), ((8, 3, 8), Block(minecraft:stone)), ((8, 3, 9), Block(minecraft:stone)), ((8, 4, 0), Block(minecraft:stone)), ((8, 4, 1), Block(minecraft:stone)), ((8, 4, 2), Block(minecraft:stone)), ((8, 4, 3), Block(minecraft:stone)), ((8, 4, 4), Block(minecraft:stone)), ((8, 4, 5), Block(minecraft:stone)), ((8, 4, 6), Block(minecraft:stone)), ((8, 4, 7), Block(minecraft:stone)), ((8, 4, 8), Block(minecraft:stone)), ((8, 4, 9), Block(minecraft:stone)), ((8, 5, 0), Block(minecraft:stone)), ((8, 5, 1), Block(minecraft:stone)), ((8, 5, 2), Block(minecraft:stone)), ((8, 5, 3), Block(minecraft:stone)), ((8, 5, 4), Block(minecraft:stone)), ((8, 5, 5), Block(minecraft:stone)), ((8, 5, 6), Block(minecraft:stone)), ((8, 5, 7), Block(minecraft:stone)), ((8, 5, 8), Block(minecraft:stone)), ((8, 5, 9), Block(minecraft:stone)), ((8, 6, 0), Block(minecraft:stone)), ((8, 6, 1), Block(minecraft:stone)), ((8, 6, 2), Block(minecraft:stone)), ((8, 6, 3), Block(minecraft:stone)), ((8, 6, 4), Block(minecraft:coal_ore)), ((8, 6, 5), Block(minecraft:coal_ore)), ((8, 6, 6), Block(minecraft:coal_ore)), ((8, 6, 7), Block(minecraft:coal_ore)), ((8, 6, 8), Block(minecraft:stone)), ((8, 6, 9), Block(minecraft:stone)), ((8, 7, 0), Block(minecraft:stone)), ((8, 7, 1), Block(minecraft:stone)), ((8, 7, 2), Block(minecraft:stone)), ((8, 7, 3), Block(minecraft:stone)), ((8, 7, 4), Block(minecraft:coal_ore)), ((8, 7, 5), Block(minecraft:coal_ore)), ((8, 7, 6), Block(minecraft:coal_ore)), ((8, 7, 7), Block(minecraft:coal_ore)), ((8, 7, 8), Block(minecraft:coal_ore)), ((8, 7, 9), Block(minecraft:coal_ore)), ((8, 8, 0), Block(minecraft:stone)), ((8, 8, 1), Block(minecraft:stone)), ((8, 8, 2), Block(minecraft:stone)), ((8, 8, 3), Block(minecraft:stone)), ((8, 8, 4), Block(minecraft:stone)), ((8, 8, 5), Block(minecraft:stone)), ((8, 8, 6), Block(minecraft:coal_ore)), ((8, 8, 7), Block(minecraft:coal_ore)), ((8, 8, 8), Block(minecraft:coal_ore)), ((8, 8, 9), Block(minecraft:coal_ore)), ((8, 9, 0), Block(minecraft:stone)), ((8, 9, 1), Block(minecraft:stone)), ((8, 9, 2), Block(minecraft:stone)), ((8, 9, 3), Block(minecraft:stone)), ((8, 9, 4), Block(minecraft:stone)), ((8, 9, 5), Block(minecraft:stone)), ((8, 9, 6), Block(minecraft:stone)), ((8, 9, 7), Block(minecraft:stone)), ((8, 9, 8), Block(minecraft:stone)), ((8, 9, 9), Block(minecraft:stone)), ((9, 0, 0), Block(minecraft:stone)), ((9, 0, 1), Block(minecraft:stone)), ((9, 0, 2), Block(minecraft:stone)), ((9, 0, 3), Block(minecraft:stone)), ((9, 0, 4), Block(minecraft:stone)), ((9, 0, 5), Block(minecraft:stone)), ((9, 0, 6), Block(minecraft:air)), ((9, 0, 7), Block(minecraft:air)), ((9, 0, 8), Block(minecraft:air)), ((9, 0, 9), Block(minecraft:air)), ((9, 1, 0), Block(minecraft:stone)), ((9, 1, 1), Block(minecraft:stone)), ((9, 1, 2), Block(minecraft:stone)), ((9, 1, 3), Block(minecraft:stone)), ((9, 1, 4), Block(minecraft:stone)), ((9, 1, 5), Block(minecraft:stone)), ((9, 1, 6), Block(minecraft:stone)), ((9, 1, 7), Block(minecraft:stone)), ((9, 1, 8), Block(minecraft:stone)), ((9, 1, 9), Block(minecraft:stone)), ((9, 2, 0), Block(minecraft:stone)), ((9, 2, 1), Block(minecraft:stone)), ((9, 2, 2), Block(minecraft:stone)), ((9, 2, 3), Block(minecraft:stone)), ((9, 2, 4), Block(minecraft:stone)), ((9, 2, 5), Block(minecraft:stone)), ((9, 2, 6), Block(minecraft:stone)), ((9, 2, 7), Block(minecraft:stone)), ((9, 2, 8), Block(minecraft:stone)), ((9, 2, 9), Block(minecraft:stone)), ((9, 3, 0), Block(minecraft:stone)), ((9, 3, 1), Block(minecraft:stone)), ((9, 3, 2), Block(minecraft:stone)), ((9, 3, 3), Block(minecraft:stone)), ((9, 3, 4), Block(minecraft:stone)), ((9, 3, 5), Block(minecraft:stone)), ((9, 3, 6), Block(minecraft:stone)), ((9, 3, 7), Block(minecraft:stone)), ((9, 3, 8), Block(minecraft:stone)), ((9, 3, 9), Block(minecraft:stone)), ((9, 4, 0), Block(minecraft:stone)), ((9, 4, 1), Block(minecraft:stone)), ((9, 4, 2), Block(minecraft:stone)), ((9, 4, 3), Block(minecraft:stone)), ((9, 4, 4), Block(minecraft:stone)), ((9, 4, 5), Block(minecraft:stone)), ((9, 4, 6), Block(minecraft:stone)), ((9, 4, 7), Block(minecraft:stone)), ((9, 4, 8), Block(minecraft:stone)), ((9, 4, 9), Block(minecraft:stone)), ((9, 5, 0), Block(minecraft:stone)), ((9, 5, 1), Block(minecraft:stone)), ((9, 5, 2), Block(minecraft:stone)), ((9, 5, 3), Block(minecraft:stone)), ((9, 5, 4), Block(minecraft:stone)), ((9, 5, 5), Block(minecraft:stone)), ((9, 5, 6), Block(minecraft:stone)), ((9, 5, 7), Block(minecraft:stone)), ((9, 5, 8), Block(minecraft:stone)), ((9, 5, 9), Block(minecraft:stone)), ((9, 6, 0), Block(minecraft:stone)), ((9, 6, 1), Block(minecraft:stone)), ((9, 6, 2), Block(minecraft:stone)), ((9, 6, 3), Block(minecraft:stone)), ((9, 6, 4), Block(minecraft:coal_ore)), ((9, 6, 5), Block(minecraft:coal_ore)), ((9, 6, 6), Block(minecraft:coal_ore)), ((9, 6, 7), Block(minecraft:coal_ore)), ((9, 6, 8), Block(minecraft:stone)), ((9, 6, 9), Block(minecraft:stone)), ((9, 7, 0), Block(minecraft:stone)), ((9, 7, 1), Block(minecraft:stone)), ((9, 7, 2), Block(minecraft:stone)), ((9, 7, 3), Block(minecraft:stone)), ((9, 7, 4), Block(minecraft:coal_ore)), ((9, 7, 5), Block(minecraft:coal_ore)), ((9, 7, 6), Block(minecraft:coal_ore)), ((9, 7, 7), Block(minecraft:coal_ore)), ((9, 7, 8), Block(minecraft:coal_ore)), ((9, 7, 9), Block(minecraft:coal_ore)), ((9, 8, 0), Block(minecraft:stone)), ((9, 8, 1), Block(minecraft:stone)), ((9, 8, 2), Block(minecraft:stone)), ((9, 8, 3), Block(minecraft:stone)), ((9, 8, 4), Block(minecraft:stone)), ((9, 8, 5), Block(minecraft:stone)), ((9, 8, 6), Block(minecraft:coal_ore)), ((9, 8, 7), Block(minecraft:coal_ore)), ((9, 8, 8), Block(minecraft:coal_ore)), ((9, 8, 9), Block(minecraft:stone)), ((9, 9, 0), Block(minecraft:stone)), ((9, 9, 1), Block(minecraft:stone)), ((9, 9, 2), Block(minecraft:stone)), ((9, 9, 3), Block(minecraft:stone)), ((9, 9, 4), Block(minecraft:stone)), ((9, 9, 5), Block(minecraft:stone)), ((9, 9, 6), Block(minecraft:stone)), ((9, 9, 7), Block(minecraft:stone)), ((9, 9, 8), Block(minecraft:stone)), ((9, 9, 9), Block(minecraft:stone))]\n"
     ]
    }
   ],
   "source": [
    "print(iterate(1000))"
   ]
  },
  {
   "cell_type": "markdown",
   "metadata": {},
   "source": [
    "## Linear Regression to Predict Function Runtime"
   ]
  },
  {
   "cell_type": "code",
   "execution_count": 14,
   "metadata": {},
   "outputs": [
    {
     "name": "stderr",
     "output_type": "stream",
     "text": [
      "INFO - Loading level custom_saves/world1\n",
      "INFO - Loading level custom_saves/world1\n",
      "INFO - Loading level custom_saves/world1\n"
     ]
    },
    {
     "name": "stdout",
     "output_type": "stream",
     "text": [
      "Blocks: 1000, Time: 0.1423 seconds\n",
      "Blocks: 2000, Time: 0.1428 seconds\n"
     ]
    },
    {
     "name": "stderr",
     "output_type": "stream",
     "text": [
      "INFO - Loading level custom_saves/world1\n",
      "INFO - Loading level custom_saves/world1\n"
     ]
    },
    {
     "name": "stdout",
     "output_type": "stream",
     "text": [
      "Blocks: 3000, Time: 0.1541 seconds\n",
      "Blocks: 4000, Time: 0.1681 seconds\n"
     ]
    },
    {
     "name": "stderr",
     "output_type": "stream",
     "text": [
      "INFO - Loading level custom_saves/world1\n",
      "INFO - Loading level custom_saves/world1\n"
     ]
    },
    {
     "name": "stdout",
     "output_type": "stream",
     "text": [
      "Blocks: 5000, Time: 0.1934 seconds\n",
      "Blocks: 6000, Time: 0.1888 seconds\n"
     ]
    },
    {
     "name": "stderr",
     "output_type": "stream",
     "text": [
      "INFO - Loading level custom_saves/world1\n"
     ]
    },
    {
     "name": "stdout",
     "output_type": "stream",
     "text": [
      "Blocks: 7000, Time: 0.1997 seconds\n"
     ]
    },
    {
     "name": "stderr",
     "output_type": "stream",
     "text": [
      "INFO - Loading level custom_saves/world1\n"
     ]
    },
    {
     "name": "stdout",
     "output_type": "stream",
     "text": [
      "Blocks: 8000, Time: 0.2100 seconds\n"
     ]
    },
    {
     "name": "stderr",
     "output_type": "stream",
     "text": [
      "INFO - Loading level custom_saves/world1\n"
     ]
    },
    {
     "name": "stdout",
     "output_type": "stream",
     "text": [
      "Blocks: 9000, Time: 0.2508 seconds\n"
     ]
    },
    {
     "name": "stderr",
     "output_type": "stream",
     "text": [
      "INFO - Loading level custom_saves/world1\n"
     ]
    },
    {
     "name": "stdout",
     "output_type": "stream",
     "text": [
      "Blocks: 10000, Time: 0.2557 seconds\n"
     ]
    },
    {
     "name": "stderr",
     "output_type": "stream",
     "text": [
      "INFO - Loading level custom_saves/world1\n"
     ]
    },
    {
     "name": "stdout",
     "output_type": "stream",
     "text": [
      "Blocks: 11000, Time: 0.3012 seconds\n"
     ]
    },
    {
     "name": "stderr",
     "output_type": "stream",
     "text": [
      "INFO - Loading level custom_saves/world1\n"
     ]
    },
    {
     "name": "stdout",
     "output_type": "stream",
     "text": [
      "Blocks: 12000, Time: 0.3122 seconds\n"
     ]
    },
    {
     "name": "stderr",
     "output_type": "stream",
     "text": [
      "INFO - Loading level custom_saves/world1\n"
     ]
    },
    {
     "name": "stdout",
     "output_type": "stream",
     "text": [
      "Blocks: 13000, Time: 0.3252 seconds\n"
     ]
    },
    {
     "name": "stderr",
     "output_type": "stream",
     "text": [
      "INFO - Loading level custom_saves/world1\n"
     ]
    },
    {
     "name": "stdout",
     "output_type": "stream",
     "text": [
      "Blocks: 14000, Time: 0.3172 seconds\n"
     ]
    },
    {
     "name": "stderr",
     "output_type": "stream",
     "text": [
      "INFO - Loading level custom_saves/world1\n"
     ]
    },
    {
     "name": "stdout",
     "output_type": "stream",
     "text": [
      "Blocks: 15000, Time: 0.3395 seconds\n"
     ]
    },
    {
     "name": "stderr",
     "output_type": "stream",
     "text": [
      "INFO - Loading level custom_saves/world1\n"
     ]
    },
    {
     "name": "stdout",
     "output_type": "stream",
     "text": [
      "Blocks: 16000, Time: 0.3735 seconds\n"
     ]
    },
    {
     "name": "stderr",
     "output_type": "stream",
     "text": [
      "INFO - Loading level custom_saves/world1\n"
     ]
    },
    {
     "name": "stdout",
     "output_type": "stream",
     "text": [
      "Blocks: 17000, Time: 0.3702 seconds\n"
     ]
    },
    {
     "name": "stderr",
     "output_type": "stream",
     "text": [
      "INFO - Loading level custom_saves/world1\n"
     ]
    },
    {
     "name": "stdout",
     "output_type": "stream",
     "text": [
      "Blocks: 18000, Time: 0.3702 seconds\n"
     ]
    },
    {
     "name": "stderr",
     "output_type": "stream",
     "text": [
      "INFO - Loading level custom_saves/world1\n"
     ]
    },
    {
     "name": "stdout",
     "output_type": "stream",
     "text": [
      "Blocks: 19000, Time: 0.4015 seconds\n"
     ]
    },
    {
     "name": "stderr",
     "output_type": "stream",
     "text": [
      "INFO - Loading level custom_saves/world1\n"
     ]
    },
    {
     "name": "stdout",
     "output_type": "stream",
     "text": [
      "Blocks: 20000, Time: 0.3794 seconds\n"
     ]
    },
    {
     "name": "stderr",
     "output_type": "stream",
     "text": [
      "INFO - Loading level custom_saves/world1\n"
     ]
    },
    {
     "name": "stdout",
     "output_type": "stream",
     "text": [
      "Blocks: 21000, Time: 0.3984 seconds\n"
     ]
    },
    {
     "name": "stderr",
     "output_type": "stream",
     "text": [
      "INFO - Loading level custom_saves/world1\n"
     ]
    },
    {
     "name": "stdout",
     "output_type": "stream",
     "text": [
      "Blocks: 22000, Time: 0.3985 seconds\n"
     ]
    },
    {
     "name": "stderr",
     "output_type": "stream",
     "text": [
      "INFO - Loading level custom_saves/world1\n"
     ]
    },
    {
     "name": "stdout",
     "output_type": "stream",
     "text": [
      "Blocks: 23000, Time: 0.3952 seconds\n"
     ]
    },
    {
     "name": "stderr",
     "output_type": "stream",
     "text": [
      "INFO - Loading level custom_saves/world1\n"
     ]
    },
    {
     "name": "stdout",
     "output_type": "stream",
     "text": [
      "Blocks: 24000, Time: 0.4319 seconds\n"
     ]
    },
    {
     "name": "stderr",
     "output_type": "stream",
     "text": [
      "INFO - Loading level custom_saves/world1\n"
     ]
    },
    {
     "name": "stdout",
     "output_type": "stream",
     "text": [
      "Blocks: 25000, Time: 0.4565 seconds\n"
     ]
    },
    {
     "name": "stderr",
     "output_type": "stream",
     "text": [
      "INFO - Loading level custom_saves/world1\n"
     ]
    },
    {
     "name": "stdout",
     "output_type": "stream",
     "text": [
      "Blocks: 26000, Time: 0.4844 seconds\n"
     ]
    },
    {
     "name": "stderr",
     "output_type": "stream",
     "text": [
      "INFO - Loading level custom_saves/world1\n"
     ]
    },
    {
     "name": "stdout",
     "output_type": "stream",
     "text": [
      "Blocks: 27000, Time: 0.4462 seconds\n"
     ]
    },
    {
     "name": "stderr",
     "output_type": "stream",
     "text": [
      "INFO - Loading level custom_saves/world1\n"
     ]
    },
    {
     "name": "stdout",
     "output_type": "stream",
     "text": [
      "Blocks: 28000, Time: 0.4476 seconds\n"
     ]
    },
    {
     "name": "stderr",
     "output_type": "stream",
     "text": [
      "INFO - Loading level custom_saves/world1\n"
     ]
    },
    {
     "name": "stdout",
     "output_type": "stream",
     "text": [
      "Blocks: 29000, Time: 0.4924 seconds\n"
     ]
    },
    {
     "name": "stderr",
     "output_type": "stream",
     "text": [
      "INFO - Loading level custom_saves/world1\n"
     ]
    },
    {
     "name": "stdout",
     "output_type": "stream",
     "text": [
      "Blocks: 30000, Time: 0.4754 seconds\n"
     ]
    },
    {
     "name": "stderr",
     "output_type": "stream",
     "text": [
      "INFO - Loading level custom_saves/world1\n"
     ]
    },
    {
     "name": "stdout",
     "output_type": "stream",
     "text": [
      "Blocks: 31000, Time: 0.4837 seconds\n"
     ]
    },
    {
     "name": "stderr",
     "output_type": "stream",
     "text": [
      "INFO - Loading level custom_saves/world1\n"
     ]
    },
    {
     "name": "stdout",
     "output_type": "stream",
     "text": [
      "Blocks: 32000, Time: 0.5151 seconds\n"
     ]
    },
    {
     "name": "stderr",
     "output_type": "stream",
     "text": [
      "INFO - Loading level custom_saves/world1\n"
     ]
    },
    {
     "name": "stdout",
     "output_type": "stream",
     "text": [
      "Blocks: 33000, Time: 0.5601 seconds\n"
     ]
    },
    {
     "name": "stderr",
     "output_type": "stream",
     "text": [
      "INFO - Loading level custom_saves/world1\n"
     ]
    },
    {
     "name": "stdout",
     "output_type": "stream",
     "text": [
      "Blocks: 34000, Time: 0.4976 seconds\n"
     ]
    },
    {
     "name": "stderr",
     "output_type": "stream",
     "text": [
      "INFO - Loading level custom_saves/world1\n"
     ]
    },
    {
     "name": "stdout",
     "output_type": "stream",
     "text": [
      "Blocks: 35000, Time: 0.5276 seconds\n"
     ]
    },
    {
     "name": "stderr",
     "output_type": "stream",
     "text": [
      "INFO - Loading level custom_saves/world1\n"
     ]
    },
    {
     "name": "stdout",
     "output_type": "stream",
     "text": [
      "Blocks: 36000, Time: 0.5258 seconds\n"
     ]
    },
    {
     "name": "stderr",
     "output_type": "stream",
     "text": [
      "INFO - Loading level custom_saves/world1\n"
     ]
    },
    {
     "name": "stdout",
     "output_type": "stream",
     "text": [
      "Blocks: 37000, Time: 0.5991 seconds\n"
     ]
    },
    {
     "name": "stderr",
     "output_type": "stream",
     "text": [
      "INFO - Loading level custom_saves/world1\n"
     ]
    },
    {
     "name": "stdout",
     "output_type": "stream",
     "text": [
      "Blocks: 38000, Time: 0.5656 seconds\n"
     ]
    },
    {
     "name": "stderr",
     "output_type": "stream",
     "text": [
      "INFO - Loading level custom_saves/world1\n"
     ]
    },
    {
     "name": "stdout",
     "output_type": "stream",
     "text": [
      "Blocks: 39000, Time: 0.5516 seconds\n"
     ]
    },
    {
     "name": "stderr",
     "output_type": "stream",
     "text": [
      "INFO - Loading level custom_saves/world1\n"
     ]
    },
    {
     "name": "stdout",
     "output_type": "stream",
     "text": [
      "Blocks: 40000, Time: 0.5479 seconds\n"
     ]
    },
    {
     "name": "stderr",
     "output_type": "stream",
     "text": [
      "INFO - Loading level custom_saves/world1\n"
     ]
    },
    {
     "name": "stdout",
     "output_type": "stream",
     "text": [
      "Blocks: 41000, Time: 0.5599 seconds\n"
     ]
    },
    {
     "name": "stderr",
     "output_type": "stream",
     "text": [
      "INFO - Loading level custom_saves/world1\n"
     ]
    },
    {
     "name": "stdout",
     "output_type": "stream",
     "text": [
      "Blocks: 42000, Time: 0.6211 seconds\n"
     ]
    },
    {
     "name": "stderr",
     "output_type": "stream",
     "text": [
      "INFO - Loading level custom_saves/world1\n"
     ]
    },
    {
     "name": "stdout",
     "output_type": "stream",
     "text": [
      "Blocks: 43000, Time: 0.5921 seconds\n"
     ]
    },
    {
     "name": "stderr",
     "output_type": "stream",
     "text": [
      "INFO - Loading level custom_saves/world1\n"
     ]
    },
    {
     "name": "stdout",
     "output_type": "stream",
     "text": [
      "Blocks: 44000, Time: 0.6136 seconds\n"
     ]
    },
    {
     "name": "stderr",
     "output_type": "stream",
     "text": [
      "INFO - Loading level custom_saves/world1\n"
     ]
    },
    {
     "name": "stdout",
     "output_type": "stream",
     "text": [
      "Blocks: 45000, Time: 0.6463 seconds\n"
     ]
    },
    {
     "name": "stderr",
     "output_type": "stream",
     "text": [
      "INFO - Loading level custom_saves/world1\n"
     ]
    },
    {
     "name": "stdout",
     "output_type": "stream",
     "text": [
      "Blocks: 46000, Time: 0.6339 seconds\n"
     ]
    },
    {
     "name": "stderr",
     "output_type": "stream",
     "text": [
      "INFO - Loading level custom_saves/world1\n"
     ]
    },
    {
     "name": "stdout",
     "output_type": "stream",
     "text": [
      "Blocks: 47000, Time: 0.6338 seconds\n"
     ]
    },
    {
     "name": "stderr",
     "output_type": "stream",
     "text": [
      "INFO - Loading level custom_saves/world1\n"
     ]
    },
    {
     "name": "stdout",
     "output_type": "stream",
     "text": [
      "Blocks: 48000, Time: 0.6208 seconds\n"
     ]
    },
    {
     "name": "stderr",
     "output_type": "stream",
     "text": [
      "INFO - Loading level custom_saves/world1\n"
     ]
    },
    {
     "name": "stdout",
     "output_type": "stream",
     "text": [
      "Blocks: 49000, Time: 0.7186 seconds\n"
     ]
    },
    {
     "name": "stderr",
     "output_type": "stream",
     "text": [
      "INFO - Loading level custom_saves/world1\n"
     ]
    },
    {
     "name": "stdout",
     "output_type": "stream",
     "text": [
      "Blocks: 50000, Time: 0.7400 seconds\n"
     ]
    },
    {
     "name": "stderr",
     "output_type": "stream",
     "text": [
      "INFO - Loading level custom_saves/world1\n"
     ]
    },
    {
     "name": "stdout",
     "output_type": "stream",
     "text": [
      "Blocks: 51000, Time: 0.7105 seconds\n"
     ]
    },
    {
     "name": "stderr",
     "output_type": "stream",
     "text": [
      "INFO - Loading level custom_saves/world1\n"
     ]
    },
    {
     "name": "stdout",
     "output_type": "stream",
     "text": [
      "Blocks: 52000, Time: 0.7035 seconds\n"
     ]
    },
    {
     "name": "stderr",
     "output_type": "stream",
     "text": [
      "INFO - Loading level custom_saves/world1\n"
     ]
    },
    {
     "name": "stdout",
     "output_type": "stream",
     "text": [
      "Blocks: 53000, Time: 0.7628 seconds\n"
     ]
    },
    {
     "name": "stderr",
     "output_type": "stream",
     "text": [
      "INFO - Loading level custom_saves/world1\n"
     ]
    },
    {
     "name": "stdout",
     "output_type": "stream",
     "text": [
      "Blocks: 54000, Time: 0.7005 seconds\n"
     ]
    },
    {
     "name": "stderr",
     "output_type": "stream",
     "text": [
      "INFO - Loading level custom_saves/world1\n"
     ]
    },
    {
     "name": "stdout",
     "output_type": "stream",
     "text": [
      "Blocks: 55000, Time: 0.7177 seconds\n"
     ]
    },
    {
     "name": "stderr",
     "output_type": "stream",
     "text": [
      "INFO - Loading level custom_saves/world1\n"
     ]
    },
    {
     "name": "stdout",
     "output_type": "stream",
     "text": [
      "Blocks: 56000, Time: 0.7205 seconds\n"
     ]
    },
    {
     "name": "stderr",
     "output_type": "stream",
     "text": [
      "INFO - Loading level custom_saves/world1\n"
     ]
    },
    {
     "name": "stdout",
     "output_type": "stream",
     "text": [
      "Blocks: 57000, Time: 0.7521 seconds\n"
     ]
    },
    {
     "name": "stderr",
     "output_type": "stream",
     "text": [
      "INFO - Loading level custom_saves/world1\n"
     ]
    },
    {
     "name": "stdout",
     "output_type": "stream",
     "text": [
      "Blocks: 58000, Time: 0.8297 seconds\n"
     ]
    },
    {
     "name": "stderr",
     "output_type": "stream",
     "text": [
      "INFO - Loading level custom_saves/world1\n"
     ]
    },
    {
     "name": "stdout",
     "output_type": "stream",
     "text": [
      "Blocks: 59000, Time: 0.9675 seconds\n"
     ]
    },
    {
     "name": "stderr",
     "output_type": "stream",
     "text": [
      "INFO - Loading level custom_saves/world1\n"
     ]
    },
    {
     "name": "stdout",
     "output_type": "stream",
     "text": [
      "Blocks: 60000, Time: 0.8306 seconds\n"
     ]
    },
    {
     "name": "stderr",
     "output_type": "stream",
     "text": [
      "INFO - Loading level custom_saves/world1\n"
     ]
    },
    {
     "name": "stdout",
     "output_type": "stream",
     "text": [
      "Blocks: 61000, Time: 0.8939 seconds\n"
     ]
    },
    {
     "name": "stderr",
     "output_type": "stream",
     "text": [
      "INFO - Loading level custom_saves/world1\n"
     ]
    },
    {
     "name": "stdout",
     "output_type": "stream",
     "text": [
      "Blocks: 62000, Time: 0.8732 seconds\n"
     ]
    },
    {
     "name": "stderr",
     "output_type": "stream",
     "text": [
      "INFO - Loading level custom_saves/world1\n"
     ]
    },
    {
     "name": "stdout",
     "output_type": "stream",
     "text": [
      "Blocks: 63000, Time: 0.8684 seconds\n"
     ]
    },
    {
     "name": "stderr",
     "output_type": "stream",
     "text": [
      "INFO - Loading level custom_saves/world1\n"
     ]
    },
    {
     "name": "stdout",
     "output_type": "stream",
     "text": [
      "Blocks: 64000, Time: 0.8539 seconds\n"
     ]
    },
    {
     "name": "stderr",
     "output_type": "stream",
     "text": [
      "INFO - Loading level custom_saves/world1\n"
     ]
    },
    {
     "name": "stdout",
     "output_type": "stream",
     "text": [
      "Blocks: 65000, Time: 0.8478 seconds\n"
     ]
    },
    {
     "name": "stderr",
     "output_type": "stream",
     "text": [
      "INFO - Loading level custom_saves/world1\n"
     ]
    },
    {
     "name": "stdout",
     "output_type": "stream",
     "text": [
      "Blocks: 66000, Time: 0.9043 seconds\n"
     ]
    },
    {
     "name": "stderr",
     "output_type": "stream",
     "text": [
      "INFO - Loading level custom_saves/world1\n"
     ]
    },
    {
     "name": "stdout",
     "output_type": "stream",
     "text": [
      "Blocks: 67000, Time: 0.9044 seconds\n"
     ]
    },
    {
     "name": "stderr",
     "output_type": "stream",
     "text": [
      "INFO - Loading level custom_saves/world1\n"
     ]
    },
    {
     "name": "stdout",
     "output_type": "stream",
     "text": [
      "Blocks: 68000, Time: 0.9199 seconds\n"
     ]
    },
    {
     "name": "stderr",
     "output_type": "stream",
     "text": [
      "INFO - Loading level custom_saves/world1\n"
     ]
    },
    {
     "name": "stdout",
     "output_type": "stream",
     "text": [
      "Blocks: 69000, Time: 0.9158 seconds\n"
     ]
    },
    {
     "name": "stderr",
     "output_type": "stream",
     "text": [
      "INFO - Loading level custom_saves/world1\n"
     ]
    },
    {
     "name": "stdout",
     "output_type": "stream",
     "text": [
      "Blocks: 70000, Time: 0.9037 seconds\n"
     ]
    },
    {
     "name": "stderr",
     "output_type": "stream",
     "text": [
      "INFO - Loading level custom_saves/world1\n"
     ]
    },
    {
     "name": "stdout",
     "output_type": "stream",
     "text": [
      "Blocks: 71000, Time: 0.9294 seconds\n"
     ]
    },
    {
     "name": "stderr",
     "output_type": "stream",
     "text": [
      "INFO - Loading level custom_saves/world1\n"
     ]
    },
    {
     "name": "stdout",
     "output_type": "stream",
     "text": [
      "Blocks: 72000, Time: 0.9928 seconds\n"
     ]
    },
    {
     "name": "stderr",
     "output_type": "stream",
     "text": [
      "INFO - Loading level custom_saves/world1\n"
     ]
    },
    {
     "name": "stdout",
     "output_type": "stream",
     "text": [
      "Blocks: 73000, Time: 0.9568 seconds\n"
     ]
    },
    {
     "name": "stderr",
     "output_type": "stream",
     "text": [
      "INFO - Loading level custom_saves/world1\n"
     ]
    },
    {
     "name": "stdout",
     "output_type": "stream",
     "text": [
      "Blocks: 74000, Time: 0.9672 seconds\n"
     ]
    },
    {
     "name": "stderr",
     "output_type": "stream",
     "text": [
      "INFO - Loading level custom_saves/world1\n"
     ]
    },
    {
     "name": "stdout",
     "output_type": "stream",
     "text": [
      "Blocks: 75000, Time: 0.9937 seconds\n"
     ]
    },
    {
     "name": "stderr",
     "output_type": "stream",
     "text": [
      "INFO - Loading level custom_saves/world1\n"
     ]
    },
    {
     "name": "stdout",
     "output_type": "stream",
     "text": [
      "Blocks: 76000, Time: 0.9744 seconds\n"
     ]
    },
    {
     "name": "stderr",
     "output_type": "stream",
     "text": [
      "INFO - Loading level custom_saves/world1\n"
     ]
    },
    {
     "name": "stdout",
     "output_type": "stream",
     "text": [
      "Blocks: 77000, Time: 1.0309 seconds\n"
     ]
    },
    {
     "name": "stderr",
     "output_type": "stream",
     "text": [
      "INFO - Loading level custom_saves/world1\n"
     ]
    },
    {
     "name": "stdout",
     "output_type": "stream",
     "text": [
      "Blocks: 78000, Time: 0.9898 seconds\n"
     ]
    },
    {
     "name": "stderr",
     "output_type": "stream",
     "text": [
      "INFO - Loading level custom_saves/world1\n"
     ]
    },
    {
     "name": "stdout",
     "output_type": "stream",
     "text": [
      "Blocks: 79000, Time: 0.9965 seconds\n"
     ]
    },
    {
     "name": "stderr",
     "output_type": "stream",
     "text": [
      "INFO - Loading level custom_saves/world1\n"
     ]
    },
    {
     "name": "stdout",
     "output_type": "stream",
     "text": [
      "Blocks: 80000, Time: 0.9956 seconds\n"
     ]
    },
    {
     "name": "stderr",
     "output_type": "stream",
     "text": [
      "INFO - Loading level custom_saves/world1\n"
     ]
    },
    {
     "name": "stdout",
     "output_type": "stream",
     "text": [
      "Blocks: 81000, Time: 1.0657 seconds\n"
     ]
    },
    {
     "name": "stderr",
     "output_type": "stream",
     "text": [
      "INFO - Loading level custom_saves/world1\n"
     ]
    },
    {
     "name": "stdout",
     "output_type": "stream",
     "text": [
      "Blocks: 82000, Time: 0.9977 seconds\n"
     ]
    },
    {
     "name": "stderr",
     "output_type": "stream",
     "text": [
      "INFO - Loading level custom_saves/world1\n"
     ]
    },
    {
     "name": "stdout",
     "output_type": "stream",
     "text": [
      "Blocks: 83000, Time: 1.0517 seconds\n"
     ]
    },
    {
     "name": "stderr",
     "output_type": "stream",
     "text": [
      "INFO - Loading level custom_saves/world1\n"
     ]
    },
    {
     "name": "stdout",
     "output_type": "stream",
     "text": [
      "Blocks: 84000, Time: 1.0710 seconds\n"
     ]
    },
    {
     "name": "stderr",
     "output_type": "stream",
     "text": [
      "INFO - Loading level custom_saves/world1\n"
     ]
    },
    {
     "name": "stdout",
     "output_type": "stream",
     "text": [
      "Blocks: 85000, Time: 1.0228 seconds\n"
     ]
    },
    {
     "name": "stderr",
     "output_type": "stream",
     "text": [
      "INFO - Loading level custom_saves/world1\n"
     ]
    },
    {
     "name": "stdout",
     "output_type": "stream",
     "text": [
      "Blocks: 86000, Time: 1.0804 seconds\n"
     ]
    },
    {
     "name": "stderr",
     "output_type": "stream",
     "text": [
      "INFO - Loading level custom_saves/world1\n"
     ]
    },
    {
     "name": "stdout",
     "output_type": "stream",
     "text": [
      "Blocks: 87000, Time: 1.0357 seconds\n"
     ]
    },
    {
     "name": "stderr",
     "output_type": "stream",
     "text": [
      "INFO - Loading level custom_saves/world1\n"
     ]
    },
    {
     "name": "stdout",
     "output_type": "stream",
     "text": [
      "Blocks: 88000, Time: 1.0453 seconds\n"
     ]
    },
    {
     "name": "stderr",
     "output_type": "stream",
     "text": [
      "INFO - Loading level custom_saves/world1\n"
     ]
    },
    {
     "name": "stdout",
     "output_type": "stream",
     "text": [
      "Blocks: 89000, Time: 1.0785 seconds\n"
     ]
    },
    {
     "name": "stderr",
     "output_type": "stream",
     "text": [
      "INFO - Loading level custom_saves/world1\n"
     ]
    },
    {
     "name": "stdout",
     "output_type": "stream",
     "text": [
      "Blocks: 90000, Time: 1.0823 seconds\n"
     ]
    },
    {
     "name": "stderr",
     "output_type": "stream",
     "text": [
      "INFO - Loading level custom_saves/world1\n"
     ]
    },
    {
     "name": "stdout",
     "output_type": "stream",
     "text": [
      "Blocks: 91000, Time: 1.0928 seconds\n"
     ]
    },
    {
     "name": "stderr",
     "output_type": "stream",
     "text": [
      "INFO - Loading level custom_saves/world1\n"
     ]
    },
    {
     "name": "stdout",
     "output_type": "stream",
     "text": [
      "Blocks: 92000, Time: 1.0935 seconds\n"
     ]
    },
    {
     "name": "stderr",
     "output_type": "stream",
     "text": [
      "INFO - Loading level custom_saves/world1\n"
     ]
    },
    {
     "name": "stdout",
     "output_type": "stream",
     "text": [
      "Blocks: 93000, Time: 1.1075 seconds\n"
     ]
    },
    {
     "name": "stderr",
     "output_type": "stream",
     "text": [
      "INFO - Loading level custom_saves/world1\n"
     ]
    },
    {
     "name": "stdout",
     "output_type": "stream",
     "text": [
      "Blocks: 94000, Time: 1.0990 seconds\n"
     ]
    },
    {
     "name": "stderr",
     "output_type": "stream",
     "text": [
      "INFO - Loading level custom_saves/world1\n"
     ]
    },
    {
     "name": "stdout",
     "output_type": "stream",
     "text": [
      "Blocks: 95000, Time: 1.1681 seconds\n"
     ]
    },
    {
     "name": "stderr",
     "output_type": "stream",
     "text": [
      "INFO - Loading level custom_saves/world1\n"
     ]
    },
    {
     "name": "stdout",
     "output_type": "stream",
     "text": [
      "Blocks: 96000, Time: 1.1895 seconds\n"
     ]
    },
    {
     "name": "stderr",
     "output_type": "stream",
     "text": [
      "INFO - Loading level custom_saves/world1\n"
     ]
    },
    {
     "name": "stdout",
     "output_type": "stream",
     "text": [
      "Blocks: 97000, Time: 1.1500 seconds\n"
     ]
    },
    {
     "name": "stderr",
     "output_type": "stream",
     "text": [
      "INFO - Loading level custom_saves/world1\n"
     ]
    },
    {
     "name": "stdout",
     "output_type": "stream",
     "text": [
      "Blocks: 98000, Time: 1.1916 seconds\n"
     ]
    },
    {
     "name": "stderr",
     "output_type": "stream",
     "text": [
      "INFO - Loading level custom_saves/world1\n"
     ]
    },
    {
     "name": "stdout",
     "output_type": "stream",
     "text": [
      "Blocks: 99000, Time: 1.1541 seconds\n",
      "Blocks: 100000, Time: 1.1575 seconds\n"
     ]
    },
    {
     "data": {
      "image/png": "[encoded data removed]",
      "text/plain": [
       "<Figure size 1000x600 with 1 Axes>"
      ]
     },
     "metadata": {},
     "output_type": "display_data"
    },
    {
     "name": "stdout",
     "output_type": "stream",
     "text": [
      "\n",
      "Regression Statistics:\n",
      "Slope: 1.05e-05 seconds/block\n",
      "Intercept: 1.68e-01 seconds\n",
      "R-squared: 0.9856\n",
      "Standard Error: 1.28e-07\n"
     ]
    }
   ],
   "source": [
    "import timeit\n",
    "import numpy as np\n",
    "import matplotlib.pyplot as plt\n",
    "from scipy import stats\n",
    "\n",
    "# Range of block counts to test\n",
    "block_counts = np.array(range(1000, 100001, 1000))  # From 1,000 to 100,000 in steps of 1,000\n",
    "elapsed_times = []  # List to store elapsed times for each block count\n",
    "\n",
    "# Measure execution time for each block count\n",
    "for num_blocks in block_counts:\n",
    "    # Use timeit to measure the execution time of the iterate function\n",
    "    elapsed_time = timeit.timeit(lambda: iterate(num_blocks), number=1)  # Run once for each block count\n",
    "    elapsed_times.append(elapsed_time)\n",
    "    print(f\"Blocks: {num_blocks}, Time: {elapsed_time:.4f} seconds\")\n",
    "\n",
    "# Convert elapsed_times to numpy array for calculations\n",
    "elapsed_times = np.array(elapsed_times)\n",
    "\n",
    "# Calculate linear regression\n",
    "slope, intercept, r_value, p_value, std_err = stats.linregress(block_counts, elapsed_times)\n",
    "\n",
    "# Create the regression line\n",
    "regression_line = slope * block_counts + intercept\n",
    "\n",
    "# Plotting the results\n",
    "plt.figure(figsize=(10, 6))\n",
    "\n",
    "# Plot actual data points\n",
    "plt.scatter(block_counts, elapsed_times, label='Actual Times', alpha=0.5)\n",
    "\n",
    "# Plot regression line\n",
    "plt.plot(block_counts, regression_line, 'r', label=f'Regression Line (y = {slope:.2e}x + {intercept:.2e})')\n",
    "\n",
    "plt.xlabel(\"Number of Blocks\")\n",
    "plt.ylabel(\"Elapsed Time (seconds)\")\n",
    "plt.title(\"Performance of iterate() with Linear Regression\")\n",
    "plt.legend()\n",
    "plt.grid(True)\n",
    "\n",
    "# Add R-squared value to the plot\n",
    "plt.text(0.02, 0.98, f'R² = {r_value**2:.4f}', \n",
    "         transform=plt.gca().transAxes, \n",
    "         verticalalignment='top')\n",
    "\n",
    "plt.show()\n",
    "\n",
    "# Print detailed statistics\n",
    "print(\"\\nRegression Statistics:\")\n",
    "print(f\"Slope: {slope:.2e} seconds/block\")\n",
    "print(f\"Intercept: {intercept:.2e} seconds\")\n",
    "print(f\"R-squared: {r_value**2:.4f}\")\n",
    "print(f\"Standard Error: {std_err:.2e}\")"
   ]
  }
 ],
 "metadata": {
  "kernelspec": {
   "display_name": "mc-3.10.14",
   "language": "python",
   "name": "python3"
  },
  "language_info": {
   "codemirror_mode": {
    "name": "ipython",
    "version": 3
   },
   "file_extension": ".py",
   "mimetype": "text/x-python",
   "name": "python",
   "nbconvert_exporter": "python",
   "pygments_lexer": "ipython3",
   "version": "3.10.14"
  }
 },
 "nbformat": 4,
 "nbformat_minor": 2
}
