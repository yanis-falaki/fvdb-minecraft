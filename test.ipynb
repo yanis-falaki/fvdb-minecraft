{
 "cells": [
  {
   "cell_type": "code",
   "execution_count": 1,
   "metadata": {},
   "outputs": [],
   "source": [
    "import fvdb\n",
    "from fvdb.nn import VDBTensor\n",
    "import torch\n",
    "import fvdb.nn as fvnn\n",
    "\n",
    "fvdb.nn.SparseConv3d.allow_tf32 = False"
   ]
  },
  {
   "cell_type": "code",
   "execution_count": 2,
   "metadata": {},
   "outputs": [],
   "source": [
    "class DownSampleBlock(torch.nn.Module):\n",
    "    def __init__(self, in_channels, out_channels):\n",
    "        super().__init__()\n",
    "        self.conv1 = fvdb.nn.SparseConv3d(in_channels=in_channels, out_channels=out_channels, kernel_size=3, stride=1, bias=False)\n",
    "        self.norm1 = fvdb.nn.BatchNorm(num_features=out_channels)\n",
    "\n",
    "        self.conv2 = fvdb.nn.SparseConv3d(in_channels=out_channels, out_channels=out_channels, kernel_size=3, stride=1, bias=False)\n",
    "        self.norm2 = fvdb.nn.BatchNorm(num_features=out_channels)\n",
    "\n",
    "        self.relu = fvdb.nn.ReLU(inplace=True)\n",
    "        self.maxpool = fvdb.nn.MaxPool(2, 2)\n",
    "\n",
    "    def forward(self, x):\n",
    "        x = self.conv1(x)\n",
    "        x = self.norm1(x)\n",
    "        x = self.relu(x)\n",
    "\n",
    "        x = self.conv2(x)\n",
    "        x = self.norm2(x)\n",
    "\n",
    "        return x, self.maxpool(x)\n",
    "    \n",
    "class UpSampleBlock(torch.nn.Module):\n",
    "    def __init__(self, in_channels, out_channels):\n",
    "        super().__init__()\n",
    "        self.upconv = fvdb.nn.SparseConv3d(in_channels=in_channels, out_channels=out_channels, transposed=True)\n",
    "        self.upNorm = fvdb.nn.BatchNorm(out_channels)\n",
    "\n",
    "        # jcat will double the channel size\n",
    "        self.conv1 = fvdb.nn.SparseConv3d(in_channels=out_channels*2, out_channels=out_channels, kernel_size=3, stride=1, bias=False)\n",
    "        self.norm1 = fvdb.nn.BatchNorm(out_channels)\n",
    "\n",
    "        self.conv2 = fvdb.nn.SparseConv3d(in_channels=out_channels, out_channels=out_channels, kernel_size=3, stride=1, bias=False)\n",
    "        self.norm2 = fvdb.nn.BatchNorm(out_channels)\n",
    "\n",
    "        self.relu = fvdb.nn.ReLU(inplace=True)\n",
    "\n",
    "    def forward(self, x, x_skip):\n",
    "        x = self.upconv(x, x_skip.grid)\n",
    "        x = self.upNorm(x)\n",
    "        x = self.relu(x)\n",
    "        x = fvdb.jcat([x, x_skip], dim=1)\n",
    "\n",
    "        x = self.conv1(x)\n",
    "        x = self.norm1(x)\n",
    "        x = self.relu(x)\n",
    "\n",
    "        x = self.conv2(x)\n",
    "        x = self.norm2(x)\n",
    "        x = self.relu(x)\n",
    "\n",
    "        return x"
   ]
  },
  {
   "cell_type": "code",
   "execution_count": 3,
   "metadata": {},
   "outputs": [],
   "source": [
    "class Model(torch.nn.Module):\n",
    "    def __init__(self):\n",
    "        super().__init__()\n",
    "        self.NUM_CHANNELS = (1, 8, 8, 16, 16, 32, 32, 16, 16, 8, 8, 1)\n",
    "\n",
    "        self.downSampleBlock1 = DownSampleBlock(1, 8)\n",
    "        self.downSampleBlock2 = DownSampleBlock(8, 16)\n",
    "        self.downSampleBlock3 = DownSampleBlock(16, 32)\n",
    "        # Not enough device memory for lowest res layer\n",
    "        #self.downSampleBlock4 = DownSampleBlock(32, 64)\n",
    "\n",
    "        self.bottleneck1 = fvdb.nn.SparseConv3d(in_channels=32, out_channels=64, kernel_size=3, stride=1, bias=False)\n",
    "        self.bottleNorm1 = fvdb.nn.BatchNorm(num_features=64)\n",
    "        self.bottleneck2 = fvdb.nn.SparseConv3d(in_channels=64, out_channels=64, kernel_size=3, stride=1, bias=False)\n",
    "        self.bottleNorm2 = fvdb.nn.BatchNorm(64)\n",
    "\n",
    "        # Not enough device memory for lowest res layer\n",
    "        #self.upsample4 = UpSampleBlock(86, 64)\n",
    "        self.upsample3 = UpSampleBlock(64, 32)\n",
    "        self.upsample2 = UpSampleBlock(32, 16)\n",
    "        self.upsample1 = UpSampleBlock(16, 8)\n",
    "\n",
    "        self.conv = fvdb.nn.SparseConv3d(in_channels=16, out_channels=1, transposed=False)\n",
    "\n",
    "    def forward(self, x):\n",
    "        og1, x = self.downSampleBlock1(x)\n",
    "        og2, x = self.downSampleBlock2(x)\n",
    "        og3, x = self.downSampleBlock3(x)\n",
    "        #og4, out4 = self.downSampleBlock4(out3)\n",
    "\n",
    "        x = self.bottleneck1(x)\n",
    "        x = self.bottleNorm1(x)\n",
    "        x = self.bottleneck2(x)\n",
    "        x = self.bottleNorm2(x)\n",
    "\n",
    "        #out = self.upsample4(x, og4)\n",
    "        x = self.upsample3(x, og3)\n",
    "        x = self.upsample2(x, og2)\n",
    "\n",
    "        x = self.conv(x, x.grid)\n",
    "\n",
    "        return x"
   ]
  },
  {
   "cell_type": "code",
   "execution_count": 4,
   "metadata": {},
   "outputs": [
    {
     "name": "stdout",
     "output_type": "stream",
     "text": [
      "Loaded grid batch total number of voxels:  8218378\n",
      "Loaded grid batch data type: torch.float32, device: cuda:0\n"
     ]
    }
   ],
   "source": [
    "grid_batch, labels, names = fvdb.load(\"./data/training_data/regions/3.0.0.nvdb\", device='cuda')\n",
    "labels = labels.to(torch.float)\n",
    "print(\"Loaded grid batch total number of voxels: \", grid_batch.total_voxels)\n",
    "print(\"Loaded grid batch data type: %s, device: %s\" % (labels.dtype, labels.device))"
   ]
  },
  {
   "cell_type": "code",
   "execution_count": 5,
   "metadata": {},
   "outputs": [],
   "source": [
    "active_feature_list = torch.ones(grid_batch[0].total_enabled_voxels, device='cuda', dtype=torch.float32).unsqueeze(-1)\n",
    "active_feature  = fvdb.JaggedTensor(active_feature_list).to(torch.float32)"
   ]
  },
  {
   "cell_type": "code",
   "execution_count": 6,
   "metadata": {},
   "outputs": [],
   "source": [
    "sinput = fvdb.nn.VDBTensor(grid_batch, active_feature)\n",
    "model = Model().to('cuda')"
   ]
  },
  {
   "cell_type": "code",
   "execution_count": 7,
   "metadata": {},
   "outputs": [],
   "source": [
    "soutput = model(sinput)"
   ]
  }
 ],
 "metadata": {
  "kernelspec": {
   "display_name": "fvdb",
   "language": "python",
   "name": "python3"
  },
  "language_info": {
   "codemirror_mode": {
    "name": "ipython",
    "version": 3
   },
   "file_extension": ".py",
   "mimetype": "text/x-python",
   "name": "python",
   "nbconvert_exporter": "python",
   "pygments_lexer": "ipython3",
   "version": "3.10.16"
  }
 },
 "nbformat": 4,
 "nbformat_minor": 2
}
