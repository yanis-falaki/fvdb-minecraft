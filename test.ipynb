{
 "cells": [
  {
   "cell_type": "code",
   "execution_count": 1,
   "metadata": {},
   "outputs": [],
   "source": [
    "import fvdb\n",
    "from fvdb.nn import VDBTensor\n",
    "import torch\n",
    "from UNet import SparseUNet\n",
    "import tqdm.notebook as tqdm\n",
    "\n",
    "#fvdb.nn.SparseConv3d.allow_tf32 = False"
   ]
  },
  {
   "cell_type": "code",
   "execution_count": 2,
   "metadata": {},
   "outputs": [],
   "source": [
    "from torch.utils.data import Dataset\n",
    "import os\n",
    "\n",
    "class ChunkDataset(Dataset):\n",
    "    def __init__(self, chunksPath):\n",
    "        self.paths = []\n",
    "\n",
    "        for filename in os.listdir(chunksPath):\n",
    "            self.paths.append(f\"{chunksPath}/{filename}\")\n",
    "\n",
    "    def __len__(self):\n",
    "        return len(self.paths)\n",
    "    \n",
    "    def __getitem__(self, idx):\n",
    "        grid_batch, labels, names = fvdb.load(self.paths[idx])\n",
    "        labels.to(torch.long)\n",
    "\n",
    "        return VDBTensor(grid_batch, labels)"
   ]
  },
  {
   "cell_type": "code",
   "execution_count": 3,
   "metadata": {},
   "outputs": [],
   "source": [
    "dataset = ChunkDataset(\"data/training_data/chunks\")\n",
    "dataloader = torch.utils.data.DataLoader(dataset, batch_size=8, collate_fn=fvdb.jcat, shuffle=True, prefetch_factor=2, num_workers=1)"
   ]
  },
  {
   "cell_type": "code",
   "execution_count": 4,
   "metadata": {},
   "outputs": [
    {
     "data": {
      "text/plain": [
       "6979"
      ]
     },
     "execution_count": 4,
     "metadata": {},
     "output_type": "execute_result"
    }
   ],
   "source": [
    "len(dataloader)"
   ]
  },
  {
   "cell_type": "code",
   "execution_count": 5,
   "metadata": {},
   "outputs": [
    {
     "ename": "",
     "evalue": "",
     "output_type": "error",
     "traceback": [
      "\u001b[1;31mThe Kernel crashed while executing code in the current cell or a previous cell. \n",
      "\u001b[1;31mPlease review the code in the cell(s) to identify a possible cause of the failure. \n",
      "\u001b[1;31mClick <a href='https://aka.ms/vscodeJupyterKernelCrash'>here</a> for more info. \n",
      "\u001b[1;31mView Jupyter <a href='command:jupyter.viewOutput'>log</a> for further details."
     ]
    }
   ],
   "source": [
    "num_classes = 0\n",
    "with open(\"minecraft-serialization/block_list.txt\", 'r') as file:\n",
    "    num_classes = sum(1 for line in file)\n",
    "\n",
    "model = SparseUNet(num_classes).to('cuda')\n",
    "loss = torch.nn.CrossEntropyLoss()\n",
    "optimizer = torch.optim.Adam(model.parameters(), lr=1e-4)"
   ]
  },
  {
   "cell_type": "code",
   "execution_count": 6,
   "metadata": {},
   "outputs": [
    {
     "data": {
      "application/vnd.jupyter.widget-view+json": {
       "model_id": "e02a0b0acf1b44deaa8fcfef1854fd5b",
       "version_major": 2,
       "version_minor": 0
      },
      "text/plain": [
       "  0%|          | 0/5 [00:00<?, ?it/s]"
      ]
     },
     "metadata": {},
     "output_type": "display_data"
    }
   ],
   "source": [
    "# Training Loop\n",
    "epochs = 5\n",
    "with tqdm.tqdm(total=epochs) as pbar:\n",
    "    for epoch in range(epochs):\n",
    "        for i, vdb_tensor in enumerate(dataloader):\n",
    "            vdb_tensor = vdb_tensor.cuda()\n",
    "            target = vdb_tensor.data.jdata.squeeze().to(torch.long)\n",
    "            actives = vdb_tensor.grid.jagged_like(torch.ones(target.shape[0], device='cuda', dtype=torch.float32).unsqueeze(1))\n",
    "\n",
    "            X = VDBTensor(grid=vdb_tensor.grid, data=actives)\n",
    "            optimizer.zero_grad()\n",
    "            y_hat = model(X)\n",
    "\n",
    "            l = loss(y_hat.data.jdata, target)\n",
    "\n",
    "            l.backward()\n",
    "            optimizer.step()\n",
    "            pbar.set_description(f\"Epoch {epoch}, batch {i}, loss {l.item()}\")\n",
    "        pbar.update(1)"
   ]
  }
 ],
 "metadata": {
  "kernelspec": {
   "display_name": "fvdb",
   "language": "python",
   "name": "python3"
  },
  "language_info": {
   "codemirror_mode": {
    "name": "ipython",
    "version": 3
   },
   "file_extension": ".py",
   "mimetype": "text/x-python",
   "name": "python",
   "nbconvert_exporter": "python",
   "pygments_lexer": "ipython3",
   "version": "3.10.16"
  }
 },
 "nbformat": 4,
 "nbformat_minor": 2
}
